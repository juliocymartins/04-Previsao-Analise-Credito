{
 "cells": [
  {
   "cell_type": "markdown",
   "metadata": {},
   "source": [
    "# Resumo\n",
    "\n",
    "### Capítulo 1: Análise Exploratória e Estatística\n",
    "- 1.1: Importar Dados e Realizar Primeira Visualização\n",
    "- 1.2: Verificar Valores Nulos\n",
    "- 1.3: Verificar Valores Únicos\n",
    "- 1.4: Realizar Análise Gráfica\n",
    "\n",
    "### Capítulo 2: Preparação de Dados\n",
    "- 2.1: Tratar Valores Ausentes\n",
    "- 2.2: Tratar Outlier\n",
    "- 2.3: Corrigir Tipos de Dados Incorretos\n",
    "- 2.4: Aplicar Codificação One Hot\n",
    "- 2.5: Correlação\n",
    "- 2.6: Dividir Dados\n",
    "- 2.7: Realizar Standard Scaler\n",
    "- 2.8: Aplicar Undersampler\n",
    "- 2.9: Utilizar SMOTE\n",
    "\n",
    "### Capítulo 3: Construção e Teste de Modelos de Aprendizado de Máquina\n",
    "- 3.1: Regressão Logística\n",
    "- 3.2: Random Forest\n",
    "- 3.3: Gradient Boosting\n",
    "- 3.4: Máquina de Vetores de Suporte (SVM)\n",
    "- 3.5: K-Nearest Neighbors (KNN)\n",
    "- 3.6: Redes Neurais\n",
    "\n",
    "### Capítulo 4: Conclusão"
   ]
  },
  {
   "cell_type": "markdown",
   "metadata": {},
   "source": [
    "# Etapa 1: Análise Exploratória de Dados"
   ]
  },
  {
   "cell_type": "code",
   "execution_count": 226,
   "metadata": {},
   "outputs": [],
   "source": [
    "import pandas as pd\n",
    "import matplotlib.pyplot as plt\n",
    "import seaborn as sns\n",
    "\n",
    "import warnings\n",
    "warnings.filterwarnings(\"ignore\")"
   ]
  },
  {
   "cell_type": "markdown",
   "metadata": {},
   "source": [
    "### 1.1: Importar Dados e Realizar Primeira Visualização"
   ]
  },
  {
   "cell_type": "code",
   "execution_count": 227,
   "metadata": {},
   "outputs": [
    {
     "data": {
      "text/html": [
       "<div>\n",
       "<style scoped>\n",
       "    .dataframe tbody tr th:only-of-type {\n",
       "        vertical-align: middle;\n",
       "    }\n",
       "\n",
       "    .dataframe tbody tr th {\n",
       "        vertical-align: top;\n",
       "    }\n",
       "\n",
       "    .dataframe thead th {\n",
       "        text-align: right;\n",
       "    }\n",
       "</style>\n",
       "<table border=\"1\" class=\"dataframe\">\n",
       "  <thead>\n",
       "    <tr style=\"text-align: right;\">\n",
       "      <th></th>\n",
       "      <th>person_age</th>\n",
       "      <th>person_income</th>\n",
       "      <th>person_home_ownership</th>\n",
       "      <th>person_emp_length</th>\n",
       "      <th>loan_intent</th>\n",
       "      <th>loan_grade</th>\n",
       "      <th>loan_amnt</th>\n",
       "      <th>loan_int_rate</th>\n",
       "      <th>loan_status</th>\n",
       "      <th>loan_percent_income</th>\n",
       "      <th>cb_person_default_on_file</th>\n",
       "      <th>cb_person_cred_hist_length</th>\n",
       "    </tr>\n",
       "  </thead>\n",
       "  <tbody>\n",
       "    <tr>\n",
       "      <th>0</th>\n",
       "      <td>22</td>\n",
       "      <td>59000</td>\n",
       "      <td>RENT</td>\n",
       "      <td>123.0</td>\n",
       "      <td>PERSONAL</td>\n",
       "      <td>D</td>\n",
       "      <td>35000</td>\n",
       "      <td>16.02</td>\n",
       "      <td>1</td>\n",
       "      <td>0.59</td>\n",
       "      <td>Y</td>\n",
       "      <td>3</td>\n",
       "    </tr>\n",
       "    <tr>\n",
       "      <th>1</th>\n",
       "      <td>21</td>\n",
       "      <td>9600</td>\n",
       "      <td>OWN</td>\n",
       "      <td>5.0</td>\n",
       "      <td>EDUCATION</td>\n",
       "      <td>B</td>\n",
       "      <td>1000</td>\n",
       "      <td>11.14</td>\n",
       "      <td>0</td>\n",
       "      <td>0.10</td>\n",
       "      <td>N</td>\n",
       "      <td>2</td>\n",
       "    </tr>\n",
       "    <tr>\n",
       "      <th>2</th>\n",
       "      <td>25</td>\n",
       "      <td>9600</td>\n",
       "      <td>MORTGAGE</td>\n",
       "      <td>1.0</td>\n",
       "      <td>MEDICAL</td>\n",
       "      <td>C</td>\n",
       "      <td>5500</td>\n",
       "      <td>12.87</td>\n",
       "      <td>1</td>\n",
       "      <td>0.57</td>\n",
       "      <td>N</td>\n",
       "      <td>3</td>\n",
       "    </tr>\n",
       "    <tr>\n",
       "      <th>3</th>\n",
       "      <td>23</td>\n",
       "      <td>65500</td>\n",
       "      <td>RENT</td>\n",
       "      <td>4.0</td>\n",
       "      <td>MEDICAL</td>\n",
       "      <td>C</td>\n",
       "      <td>35000</td>\n",
       "      <td>15.23</td>\n",
       "      <td>1</td>\n",
       "      <td>0.53</td>\n",
       "      <td>N</td>\n",
       "      <td>2</td>\n",
       "    </tr>\n",
       "    <tr>\n",
       "      <th>4</th>\n",
       "      <td>24</td>\n",
       "      <td>54400</td>\n",
       "      <td>RENT</td>\n",
       "      <td>8.0</td>\n",
       "      <td>MEDICAL</td>\n",
       "      <td>C</td>\n",
       "      <td>35000</td>\n",
       "      <td>14.27</td>\n",
       "      <td>1</td>\n",
       "      <td>0.55</td>\n",
       "      <td>Y</td>\n",
       "      <td>4</td>\n",
       "    </tr>\n",
       "    <tr>\n",
       "      <th>...</th>\n",
       "      <td>...</td>\n",
       "      <td>...</td>\n",
       "      <td>...</td>\n",
       "      <td>...</td>\n",
       "      <td>...</td>\n",
       "      <td>...</td>\n",
       "      <td>...</td>\n",
       "      <td>...</td>\n",
       "      <td>...</td>\n",
       "      <td>...</td>\n",
       "      <td>...</td>\n",
       "      <td>...</td>\n",
       "    </tr>\n",
       "    <tr>\n",
       "      <th>32576</th>\n",
       "      <td>57</td>\n",
       "      <td>53000</td>\n",
       "      <td>MORTGAGE</td>\n",
       "      <td>1.0</td>\n",
       "      <td>PERSONAL</td>\n",
       "      <td>C</td>\n",
       "      <td>5800</td>\n",
       "      <td>13.16</td>\n",
       "      <td>0</td>\n",
       "      <td>0.11</td>\n",
       "      <td>N</td>\n",
       "      <td>30</td>\n",
       "    </tr>\n",
       "    <tr>\n",
       "      <th>32577</th>\n",
       "      <td>54</td>\n",
       "      <td>120000</td>\n",
       "      <td>MORTGAGE</td>\n",
       "      <td>4.0</td>\n",
       "      <td>PERSONAL</td>\n",
       "      <td>A</td>\n",
       "      <td>17625</td>\n",
       "      <td>7.49</td>\n",
       "      <td>0</td>\n",
       "      <td>0.15</td>\n",
       "      <td>N</td>\n",
       "      <td>19</td>\n",
       "    </tr>\n",
       "    <tr>\n",
       "      <th>32578</th>\n",
       "      <td>65</td>\n",
       "      <td>76000</td>\n",
       "      <td>RENT</td>\n",
       "      <td>3.0</td>\n",
       "      <td>HOMEIMPROVEMENT</td>\n",
       "      <td>B</td>\n",
       "      <td>35000</td>\n",
       "      <td>10.99</td>\n",
       "      <td>1</td>\n",
       "      <td>0.46</td>\n",
       "      <td>N</td>\n",
       "      <td>28</td>\n",
       "    </tr>\n",
       "    <tr>\n",
       "      <th>32579</th>\n",
       "      <td>56</td>\n",
       "      <td>150000</td>\n",
       "      <td>MORTGAGE</td>\n",
       "      <td>5.0</td>\n",
       "      <td>PERSONAL</td>\n",
       "      <td>B</td>\n",
       "      <td>15000</td>\n",
       "      <td>11.48</td>\n",
       "      <td>0</td>\n",
       "      <td>0.10</td>\n",
       "      <td>N</td>\n",
       "      <td>26</td>\n",
       "    </tr>\n",
       "    <tr>\n",
       "      <th>32580</th>\n",
       "      <td>66</td>\n",
       "      <td>42000</td>\n",
       "      <td>RENT</td>\n",
       "      <td>2.0</td>\n",
       "      <td>MEDICAL</td>\n",
       "      <td>B</td>\n",
       "      <td>6475</td>\n",
       "      <td>9.99</td>\n",
       "      <td>0</td>\n",
       "      <td>0.15</td>\n",
       "      <td>N</td>\n",
       "      <td>30</td>\n",
       "    </tr>\n",
       "  </tbody>\n",
       "</table>\n",
       "<p>32581 rows × 12 columns</p>\n",
       "</div>"
      ],
      "text/plain": [
       "       person_age  person_income person_home_ownership  person_emp_length  \\\n",
       "0              22          59000                  RENT              123.0   \n",
       "1              21           9600                   OWN                5.0   \n",
       "2              25           9600              MORTGAGE                1.0   \n",
       "3              23          65500                  RENT                4.0   \n",
       "4              24          54400                  RENT                8.0   \n",
       "...           ...            ...                   ...                ...   \n",
       "32576          57          53000              MORTGAGE                1.0   \n",
       "32577          54         120000              MORTGAGE                4.0   \n",
       "32578          65          76000                  RENT                3.0   \n",
       "32579          56         150000              MORTGAGE                5.0   \n",
       "32580          66          42000                  RENT                2.0   \n",
       "\n",
       "           loan_intent loan_grade  loan_amnt  loan_int_rate  loan_status  \\\n",
       "0             PERSONAL          D      35000          16.02            1   \n",
       "1            EDUCATION          B       1000          11.14            0   \n",
       "2              MEDICAL          C       5500          12.87            1   \n",
       "3              MEDICAL          C      35000          15.23            1   \n",
       "4              MEDICAL          C      35000          14.27            1   \n",
       "...                ...        ...        ...            ...          ...   \n",
       "32576         PERSONAL          C       5800          13.16            0   \n",
       "32577         PERSONAL          A      17625           7.49            0   \n",
       "32578  HOMEIMPROVEMENT          B      35000          10.99            1   \n",
       "32579         PERSONAL          B      15000          11.48            0   \n",
       "32580          MEDICAL          B       6475           9.99            0   \n",
       "\n",
       "       loan_percent_income cb_person_default_on_file  \\\n",
       "0                     0.59                         Y   \n",
       "1                     0.10                         N   \n",
       "2                     0.57                         N   \n",
       "3                     0.53                         N   \n",
       "4                     0.55                         Y   \n",
       "...                    ...                       ...   \n",
       "32576                 0.11                         N   \n",
       "32577                 0.15                         N   \n",
       "32578                 0.46                         N   \n",
       "32579                 0.10                         N   \n",
       "32580                 0.15                         N   \n",
       "\n",
       "       cb_person_cred_hist_length  \n",
       "0                               3  \n",
       "1                               2  \n",
       "2                               3  \n",
       "3                               2  \n",
       "4                               4  \n",
       "...                           ...  \n",
       "32576                          30  \n",
       "32577                          19  \n",
       "32578                          28  \n",
       "32579                          26  \n",
       "32580                          30  \n",
       "\n",
       "[32581 rows x 12 columns]"
      ]
     },
     "execution_count": 227,
     "metadata": {},
     "output_type": "execute_result"
    }
   ],
   "source": [
    "credit_df = pd.read_csv(\"credit_risk_dataset.csv\")\n",
    "\n",
    "credit_df"
   ]
  },
  {
   "cell_type": "markdown",
   "metadata": {},
   "source": [
    "- person_age: Idade\n",
    "- person_income: Renda Anual\n",
    "- person_home_ownership: Propriedade da Residência\n",
    "- person_emp_length: Tempo de Emprego (em anos)\n",
    "- loan_intent: Intenção do Empréstimo\n",
    "- loan_grade: Grau do Empréstimo\n",
    "- loan_amnt: Valor do Empréstimo\n",
    "- loan_int_rate: Taxa de Juros\n",
    "- loan_status: Essa é nossa classe alvo. 0 para empréstimo negado, 1 para empréstimo aprovado.\n",
    "- loan_percent_income: Percentual da Renda Envolvida no Empréstimo.\n",
    "- cb_person_default_on_file: Histórico de Inadimplência do Cliente\n",
    "- cb_preson_cred_hist_length: Tempo de Histórico de Crédito do Cliente"
   ]
  },
  {
   "cell_type": "code",
   "execution_count": 228,
   "metadata": {},
   "outputs": [
    {
     "name": "stdout",
     "output_type": "stream",
     "text": [
      "<class 'pandas.core.frame.DataFrame'>\n",
      "RangeIndex: 32581 entries, 0 to 32580\n",
      "Data columns (total 12 columns):\n",
      " #   Column                      Non-Null Count  Dtype  \n",
      "---  ------                      --------------  -----  \n",
      " 0   person_age                  32581 non-null  int64  \n",
      " 1   person_income               32581 non-null  int64  \n",
      " 2   person_home_ownership       32581 non-null  object \n",
      " 3   person_emp_length           31686 non-null  float64\n",
      " 4   loan_intent                 32581 non-null  object \n",
      " 5   loan_grade                  32581 non-null  object \n",
      " 6   loan_amnt                   32581 non-null  int64  \n",
      " 7   loan_int_rate               29465 non-null  float64\n",
      " 8   loan_status                 32581 non-null  int64  \n",
      " 9   loan_percent_income         32581 non-null  float64\n",
      " 10  cb_person_default_on_file   32581 non-null  object \n",
      " 11  cb_person_cred_hist_length  32581 non-null  int64  \n",
      "dtypes: float64(3), int64(5), object(4)\n",
      "memory usage: 3.0+ MB\n"
     ]
    }
   ],
   "source": [
    "credit_df.info()"
   ]
  },
  {
   "cell_type": "code",
   "execution_count": 229,
   "metadata": {},
   "outputs": [
    {
     "data": {
      "text/html": [
       "<div>\n",
       "<style scoped>\n",
       "    .dataframe tbody tr th:only-of-type {\n",
       "        vertical-align: middle;\n",
       "    }\n",
       "\n",
       "    .dataframe tbody tr th {\n",
       "        vertical-align: top;\n",
       "    }\n",
       "\n",
       "    .dataframe thead th {\n",
       "        text-align: right;\n",
       "    }\n",
       "</style>\n",
       "<table border=\"1\" class=\"dataframe\">\n",
       "  <thead>\n",
       "    <tr style=\"text-align: right;\">\n",
       "      <th></th>\n",
       "      <th>person_age</th>\n",
       "      <th>person_income</th>\n",
       "      <th>person_emp_length</th>\n",
       "      <th>loan_amnt</th>\n",
       "      <th>loan_int_rate</th>\n",
       "      <th>loan_status</th>\n",
       "      <th>loan_percent_income</th>\n",
       "      <th>cb_person_cred_hist_length</th>\n",
       "    </tr>\n",
       "  </thead>\n",
       "  <tbody>\n",
       "    <tr>\n",
       "      <th>count</th>\n",
       "      <td>32581.000000</td>\n",
       "      <td>3.258100e+04</td>\n",
       "      <td>31686.000000</td>\n",
       "      <td>32581.000000</td>\n",
       "      <td>29465.000000</td>\n",
       "      <td>32581.000000</td>\n",
       "      <td>32581.000000</td>\n",
       "      <td>32581.000000</td>\n",
       "    </tr>\n",
       "    <tr>\n",
       "      <th>mean</th>\n",
       "      <td>27.734600</td>\n",
       "      <td>6.607485e+04</td>\n",
       "      <td>4.789686</td>\n",
       "      <td>9589.371106</td>\n",
       "      <td>11.011695</td>\n",
       "      <td>0.218164</td>\n",
       "      <td>0.170203</td>\n",
       "      <td>5.804211</td>\n",
       "    </tr>\n",
       "    <tr>\n",
       "      <th>std</th>\n",
       "      <td>6.348078</td>\n",
       "      <td>6.198312e+04</td>\n",
       "      <td>4.142630</td>\n",
       "      <td>6322.086646</td>\n",
       "      <td>3.240459</td>\n",
       "      <td>0.413006</td>\n",
       "      <td>0.106782</td>\n",
       "      <td>4.055001</td>\n",
       "    </tr>\n",
       "    <tr>\n",
       "      <th>min</th>\n",
       "      <td>20.000000</td>\n",
       "      <td>4.000000e+03</td>\n",
       "      <td>0.000000</td>\n",
       "      <td>500.000000</td>\n",
       "      <td>5.420000</td>\n",
       "      <td>0.000000</td>\n",
       "      <td>0.000000</td>\n",
       "      <td>2.000000</td>\n",
       "    </tr>\n",
       "    <tr>\n",
       "      <th>25%</th>\n",
       "      <td>23.000000</td>\n",
       "      <td>3.850000e+04</td>\n",
       "      <td>2.000000</td>\n",
       "      <td>5000.000000</td>\n",
       "      <td>7.900000</td>\n",
       "      <td>0.000000</td>\n",
       "      <td>0.090000</td>\n",
       "      <td>3.000000</td>\n",
       "    </tr>\n",
       "    <tr>\n",
       "      <th>50%</th>\n",
       "      <td>26.000000</td>\n",
       "      <td>5.500000e+04</td>\n",
       "      <td>4.000000</td>\n",
       "      <td>8000.000000</td>\n",
       "      <td>10.990000</td>\n",
       "      <td>0.000000</td>\n",
       "      <td>0.150000</td>\n",
       "      <td>4.000000</td>\n",
       "    </tr>\n",
       "    <tr>\n",
       "      <th>75%</th>\n",
       "      <td>30.000000</td>\n",
       "      <td>7.920000e+04</td>\n",
       "      <td>7.000000</td>\n",
       "      <td>12200.000000</td>\n",
       "      <td>13.470000</td>\n",
       "      <td>0.000000</td>\n",
       "      <td>0.230000</td>\n",
       "      <td>8.000000</td>\n",
       "    </tr>\n",
       "    <tr>\n",
       "      <th>max</th>\n",
       "      <td>144.000000</td>\n",
       "      <td>6.000000e+06</td>\n",
       "      <td>123.000000</td>\n",
       "      <td>35000.000000</td>\n",
       "      <td>23.220000</td>\n",
       "      <td>1.000000</td>\n",
       "      <td>0.830000</td>\n",
       "      <td>30.000000</td>\n",
       "    </tr>\n",
       "  </tbody>\n",
       "</table>\n",
       "</div>"
      ],
      "text/plain": [
       "         person_age  person_income  person_emp_length     loan_amnt  \\\n",
       "count  32581.000000   3.258100e+04       31686.000000  32581.000000   \n",
       "mean      27.734600   6.607485e+04           4.789686   9589.371106   \n",
       "std        6.348078   6.198312e+04           4.142630   6322.086646   \n",
       "min       20.000000   4.000000e+03           0.000000    500.000000   \n",
       "25%       23.000000   3.850000e+04           2.000000   5000.000000   \n",
       "50%       26.000000   5.500000e+04           4.000000   8000.000000   \n",
       "75%       30.000000   7.920000e+04           7.000000  12200.000000   \n",
       "max      144.000000   6.000000e+06         123.000000  35000.000000   \n",
       "\n",
       "       loan_int_rate   loan_status  loan_percent_income  \\\n",
       "count   29465.000000  32581.000000         32581.000000   \n",
       "mean       11.011695      0.218164             0.170203   \n",
       "std         3.240459      0.413006             0.106782   \n",
       "min         5.420000      0.000000             0.000000   \n",
       "25%         7.900000      0.000000             0.090000   \n",
       "50%        10.990000      0.000000             0.150000   \n",
       "75%        13.470000      0.000000             0.230000   \n",
       "max        23.220000      1.000000             0.830000   \n",
       "\n",
       "       cb_person_cred_hist_length  \n",
       "count                32581.000000  \n",
       "mean                     5.804211  \n",
       "std                      4.055001  \n",
       "min                      2.000000  \n",
       "25%                      3.000000  \n",
       "50%                      4.000000  \n",
       "75%                      8.000000  \n",
       "max                     30.000000  "
      ]
     },
     "execution_count": 229,
     "metadata": {},
     "output_type": "execute_result"
    }
   ],
   "source": [
    "credit_df.describe() "
   ]
  },
  {
   "cell_type": "markdown",
   "metadata": {},
   "source": [
    "### 1.2: Verificar Valores Nulos\n",
    "\n",
    "Vamos usar os métodos 'isnull' e 'sum' para somar os valores nulos em cada coluna."
   ]
  },
  {
   "cell_type": "code",
   "execution_count": 230,
   "metadata": {},
   "outputs": [
    {
     "data": {
      "text/plain": [
       "person_age                       0\n",
       "person_income                    0\n",
       "person_home_ownership            0\n",
       "person_emp_length              895\n",
       "loan_intent                      0\n",
       "loan_grade                       0\n",
       "loan_amnt                        0\n",
       "loan_int_rate                 3116\n",
       "loan_status                      0\n",
       "loan_percent_income              0\n",
       "cb_person_default_on_file        0\n",
       "cb_person_cred_hist_length       0\n",
       "dtype: int64"
      ]
     },
     "execution_count": 230,
     "metadata": {},
     "output_type": "execute_result"
    }
   ],
   "source": [
    "credit_df.isnull().sum()"
   ]
  },
  {
   "cell_type": "markdown",
   "metadata": {},
   "source": [
    "### 1.3: Verificar Valores Únicos"
   ]
  },
  {
   "cell_type": "code",
   "execution_count": 231,
   "metadata": {},
   "outputs": [
    {
     "name": "stdout",
     "output_type": "stream",
     "text": [
      "Valores únicos na coluna'loan_status':'[1 0]'\n",
      "Valores únicos na coluna'cb_person_default_on_file':'['Y' 'N']'\n"
     ]
    }
   ],
   "source": [
    "colunas_binarias_verificar = ['loan_status', 'cb_person_default_on_file']\n",
    "\n",
    "for coluna in colunas_binarias_verificar:\n",
    "    valores_unicos = credit_df[coluna].unique()\n",
    "    print(f\"Valores únicos na coluna'{coluna}':'{valores_unicos}'\")"
   ]
  },
  {
   "cell_type": "code",
   "execution_count": 232,
   "metadata": {},
   "outputs": [
    {
     "name": "stdout",
     "output_type": "stream",
     "text": [
      "Valores únicos na coluna'person_home_ownership':'['RENT' 'OWN' 'MORTGAGE' 'OTHER']'\n",
      "Valores únicos na coluna'loan_intent':'['PERSONAL' 'EDUCATION' 'MEDICAL' 'VENTURE' 'HOMEIMPROVEMENT'\n",
      " 'DEBTCONSOLIDATION']'\n",
      "Valores únicos na coluna'loan_grade':'['D' 'B' 'C' 'A' 'E' 'F' 'G']'\n"
     ]
    }
   ],
   "source": [
    "colunas_verificar = ['person_home_ownership', 'loan_intent','loan_grade']\n",
    "\n",
    "for coluna in colunas_verificar:\n",
    "    valores_unicos = credit_df[coluna].unique()\n",
    "    print(f\"Valores únicos na coluna'{coluna}':'{valores_unicos}'\")"
   ]
  },
  {
   "cell_type": "markdown",
   "metadata": {},
   "source": [
    "### 1.4: Realizar Análise Gráfica"
   ]
  },
  {
   "cell_type": "code",
   "execution_count": 233,
   "metadata": {},
   "outputs": [
    {
     "data": {
      "image/png": "[encoded data removed]",
      "text/plain": [
       "<Figure size 640x480 with 1 Axes>"
      ]
     },
     "metadata": {},
     "output_type": "display_data"
    }
   ],
   "source": [
    "# Definindo uma paleta de cores usando a função color_palette() do seaborn\n",
    "colors = sns.color_palette(\"RdBu\", n_colors=2)\n",
    "\n",
    "# Contagem de entradas com valor 0 e 1\n",
    "count_0 = credit_df['loan_status'].value_counts()[0]\n",
    "count_1 = credit_df['loan_status'].value_counts()[1]\n",
    "\n",
    "# Criando o gráfico de barras com cores\n",
    "plt.bar(['Reprovado(0)', 'Aprovado(1)'], [count_0, count_1], color=colors)\n",
    "\n",
    "# Adicionando rótulos e título\n",
    "plt.title('Comparação do Status do Empréstimo')\n",
    "plt.xlabel('Status do Empréstimo')\n",
    "plt.ylabel('Contagem')\n",
    "\n",
    "# Adicionando contagens acima das barras\n",
    "for i, count in enumerate([count_0, count_1]):\n",
    "    plt.text(i, count, str(count), ha='center', va='bottom')\n",
    "\n",
    "# # Salvar o gráfico como um arquivo de imagem (por exemplo, PNG)\n",
    "# plt.savefig('status_emprestimo_plot.png', bbox_inches='tight')\n",
    "\n",
    "# Exibindo o gráfico\n",
    "plt.show()"
   ]
  },
  {
   "cell_type": "code",
   "execution_count": 234,
   "metadata": {},
   "outputs": [
    {
     "data": {
      "image/png": "[encoded data removed]",
      "text/plain": [
       "<Figure size 640x480 with 1 Axes>"
      ]
     },
     "metadata": {},
     "output_type": "display_data"
    }
   ],
   "source": [
    "# Calculando a porcentagem de entradas com valor 0 e 1\n",
    "porcentagem_0 = (count_0 / len(credit_df)) * 100\n",
    "porcentagem_1 = (count_1 / len(credit_df)) * 100\n",
    "\n",
    "# Criando o gráfico de pizza\n",
    "labels = ['Não Aprovado(0)', 'Aprovado(1)']\n",
    "sizes = [porcentagem_0, porcentagem_1]\n",
    "\n",
    "plt.pie(sizes, labels=labels, autopct='%1.1f%%', startangle=70, colors=colors)\n",
    "\n",
    "# Adicionando um título\n",
    "plt.title('Distribuição do Status de Empréstimo')\n",
    "\n",
    "# Exibindo o gráfico\n",
    "plt.axis('equal')  # A proporção igual garante que a pizza seja desenhada como um círculo.\n",
    "\n",
    "# # Salvar o gráfico como um arquivo de imagem (por exemplo, PNG)\n",
    "# plt.savefig('emprestimo_distribuicao_plot.png', bbox_inches='tight')\n",
    "\n",
    "plt.show()"
   ]
  },
  {
   "cell_type": "code",
   "execution_count": 235,
   "metadata": {},
   "outputs": [
    {
     "data": {
      "image/png": "[encoded data removed]",
      "text/plain": [
       "<Figure size 1000x600 with 1 Axes>"
      ]
     },
     "metadata": {},
     "output_type": "display_data"
    }
   ],
   "source": [
    "# Criando o histograma\n",
    "plt.figure(figsize=(10, 6))\n",
    "n, bins, _ = plt.hist(credit_df['person_emp_length'].dropna(), bins=30, edgecolor='black', color=colors[0])  # Usando a primeira cor da paleta\n",
    "\n",
    "# Adicionando números específicos sobre as barras\n",
    "for count, value in zip(n, bins[:-1]):\n",
    "    if count > 0:\n",
    "        plt.text(value + (bins[1] - bins[0]) / 2, count, str(int(count)), ha='center', va='bottom')\n",
    "\n",
    "# Definindo o título e rótulos dos eixos\n",
    "plt.title('Histograma do Tempo de Emprego')\n",
    "plt.xlabel('Tempo de Emprego (em anos)')\n",
    "plt.ylabel('Frequência')\n",
    "\n",
    "# # Salvar o gráfico como um arquivo de imagem (por exemplo, PNG)\n",
    "# plt.savefig('tempo_emprego_plot.png', bbox_inches='tight')\n",
    "\n",
    "# Exibindo o histograma\n",
    "plt.show()"
   ]
  },
  {
   "cell_type": "markdown",
   "metadata": {},
   "source": [
    "# Etapa 2: Preparação de Dados"
   ]
  },
  {
   "cell_type": "code",
   "execution_count": 236,
   "metadata": {},
   "outputs": [],
   "source": [
    "credit_df_clean = credit_df.copy()"
   ]
  },
  {
   "cell_type": "markdown",
   "metadata": {},
   "source": [
    "### 2.1: Tratar Valores Ausentes"
   ]
  },
  {
   "cell_type": "code",
   "execution_count": 237,
   "metadata": {},
   "outputs": [],
   "source": [
    "# Criar uma função para substituir valores nulos pelo valor médio de uma coluna específica.\n",
    "def tratar_valores_ausentes(dataframe, coluna):\n",
    "    valor_mediana = dataframe[coluna].median()\n",
    "    dataframe[coluna] = dataframe[coluna].fillna(valor_mediana)"
   ]
  },
  {
   "cell_type": "code",
   "execution_count": 238,
   "metadata": {},
   "outputs": [
    {
     "data": {
      "text/plain": [
       "person_age                       0\n",
       "person_income                    0\n",
       "person_home_ownership            0\n",
       "person_emp_length                0\n",
       "loan_intent                      0\n",
       "loan_grade                       0\n",
       "loan_amnt                        0\n",
       "loan_int_rate                 3116\n",
       "loan_status                      0\n",
       "loan_percent_income              0\n",
       "cb_person_default_on_file        0\n",
       "cb_person_cred_hist_length       0\n",
       "dtype: int64"
      ]
     },
     "execution_count": 238,
     "metadata": {},
     "output_type": "execute_result"
    }
   ],
   "source": [
    "# Usando a função para substituir os valores nulos em 'person_emp_length'.\n",
    "tratar_valores_ausentes(credit_df_clean, 'person_emp_length')\n",
    " \n",
    "# Verificar se as substituições foram bem-sucedidas:\n",
    "credit_df_clean.isnull().sum()"
   ]
  },
  {
   "cell_type": "code",
   "execution_count": 239,
   "metadata": {},
   "outputs": [
    {
     "data": {
      "text/plain": [
       "person_age                    0\n",
       "person_income                 0\n",
       "person_home_ownership         0\n",
       "person_emp_length             0\n",
       "loan_intent                   0\n",
       "loan_grade                    0\n",
       "loan_amnt                     0\n",
       "loan_int_rate                 0\n",
       "loan_status                   0\n",
       "loan_percent_income           0\n",
       "cb_person_default_on_file     0\n",
       "cb_person_cred_hist_length    0\n",
       "dtype: int64"
      ]
     },
     "execution_count": 239,
     "metadata": {},
     "output_type": "execute_result"
    }
   ],
   "source": [
    "# Usando a função para substituir os valores em branco em 'loan_int_rate'.\n",
    "tratar_valores_ausentes(credit_df_clean, 'loan_int_rate')\n",
    "\n",
    "# Verificar se ainda existem valores em branco:\n",
    "credit_df_clean.isnull().sum()"
   ]
  },
  {
   "cell_type": "markdown",
   "metadata": {},
   "source": [
    "### 2.2: Tratar Outlier"
   ]
  },
  {
   "cell_type": "code",
   "execution_count": 240,
   "metadata": {},
   "outputs": [],
   "source": [
    "def tratar_outlier_acima_de(dataframe, coluna, valor_maximo):\n",
    "    \"\"\"\n",
    "    Substitui os valores acima de um determinado valor máximo pela mediana da coluna.\n",
    "    \n",
    "    Parameters:\n",
    "    dataframe (pd.DataFrame): O DataFrame onde a substituição será realizada.\n",
    "    column_name (str): O nome da coluna onde os valores serão substituídos.\n",
    "    max_value (numeric): O valor máximo acima do qual os valores serão substituídos.\n",
    "    \n",
    "    Returns:\n",
    "    None: A função modifica o DataFrame in-place.\n",
    "    \"\"\"\n",
    "    # Calcular a mediana da coluna\n",
    "    valor_mediana = dataframe[coluna].median()\n",
    "    \n",
    "    # Substituir os valores acima do max_value pela mediana\n",
    "    dataframe.loc[dataframe[coluna] > valor_maximo, coluna] = valor_mediana"
   ]
  },
  {
   "cell_type": "code",
   "execution_count": 241,
   "metadata": {},
   "outputs": [
    {
     "data": {
      "text/plain": [
       "np.float64(41.0)"
      ]
     },
     "execution_count": 241,
     "metadata": {},
     "output_type": "execute_result"
    }
   ],
   "source": [
    "# Usando a função para substituir valores maiores que 120 em 'person_emp_length'.\n",
    "tratar_outlier_acima_de(credit_df_clean, 'person_emp_length', 120)\n",
    "\n",
    "# Verificar se os valores foram removidos corretamente\n",
    "# Aqui vamos verificar o valor máximo desta coluna.\n",
    "credit_df_clean['person_emp_length'].max()"
   ]
  },
  {
   "cell_type": "markdown",
   "metadata": {},
   "source": [
    "### 2.3: Corrigir Tipos de Dados Incorretos"
   ]
  },
  {
   "cell_type": "code",
   "execution_count": 242,
   "metadata": {},
   "outputs": [],
   "source": [
    "def transform_values(dataframe, column_name, value_mapping):\n",
    "    dataframe[column_name] = dataframe[column_name].map(value_mapping)"
   ]
  },
  {
   "cell_type": "code",
   "execution_count": 243,
   "metadata": {},
   "outputs": [
    {
     "data": {
      "text/plain": [
       "array([ True, False])"
      ]
     },
     "execution_count": 243,
     "metadata": {},
     "output_type": "execute_result"
    }
   ],
   "source": [
    "# Usando a função para transformar 'Y' em True e 'N' em False em 'cb_person_default_on_file'.\n",
    "transform_values(credit_df_clean, 'cb_person_default_on_file', {'Y': True, 'N': False})\n",
    "\n",
    "# Verificando se a transformação foi aplicada corretamente.\n",
    "credit_df_clean['cb_person_default_on_file'].unique()"
   ]
  },
  {
   "cell_type": "code",
   "execution_count": 244,
   "metadata": {},
   "outputs": [
    {
     "data": {
      "text/html": [
       "<div>\n",
       "<style scoped>\n",
       "    .dataframe tbody tr th:only-of-type {\n",
       "        vertical-align: middle;\n",
       "    }\n",
       "\n",
       "    .dataframe tbody tr th {\n",
       "        vertical-align: top;\n",
       "    }\n",
       "\n",
       "    .dataframe thead th {\n",
       "        text-align: right;\n",
       "    }\n",
       "</style>\n",
       "<table border=\"1\" class=\"dataframe\">\n",
       "  <thead>\n",
       "    <tr style=\"text-align: right;\">\n",
       "      <th></th>\n",
       "      <th>person_age</th>\n",
       "      <th>person_income</th>\n",
       "      <th>person_home_ownership</th>\n",
       "      <th>person_emp_length</th>\n",
       "      <th>loan_intent</th>\n",
       "      <th>loan_grade</th>\n",
       "      <th>loan_amnt</th>\n",
       "      <th>loan_int_rate</th>\n",
       "      <th>loan_status</th>\n",
       "      <th>loan_percent_income</th>\n",
       "      <th>cb_person_default_on_file</th>\n",
       "      <th>cb_person_cred_hist_length</th>\n",
       "    </tr>\n",
       "  </thead>\n",
       "  <tbody>\n",
       "    <tr>\n",
       "      <th>0</th>\n",
       "      <td>22</td>\n",
       "      <td>59000</td>\n",
       "      <td>RENT</td>\n",
       "      <td>4.0</td>\n",
       "      <td>PERSONAL</td>\n",
       "      <td>D</td>\n",
       "      <td>35000</td>\n",
       "      <td>16.02</td>\n",
       "      <td>1</td>\n",
       "      <td>0.59</td>\n",
       "      <td>True</td>\n",
       "      <td>3</td>\n",
       "    </tr>\n",
       "    <tr>\n",
       "      <th>1</th>\n",
       "      <td>21</td>\n",
       "      <td>9600</td>\n",
       "      <td>OWN</td>\n",
       "      <td>5.0</td>\n",
       "      <td>EDUCATION</td>\n",
       "      <td>B</td>\n",
       "      <td>1000</td>\n",
       "      <td>11.14</td>\n",
       "      <td>0</td>\n",
       "      <td>0.10</td>\n",
       "      <td>False</td>\n",
       "      <td>2</td>\n",
       "    </tr>\n",
       "    <tr>\n",
       "      <th>2</th>\n",
       "      <td>25</td>\n",
       "      <td>9600</td>\n",
       "      <td>MORTGAGE</td>\n",
       "      <td>1.0</td>\n",
       "      <td>MEDICAL</td>\n",
       "      <td>C</td>\n",
       "      <td>5500</td>\n",
       "      <td>12.87</td>\n",
       "      <td>1</td>\n",
       "      <td>0.57</td>\n",
       "      <td>False</td>\n",
       "      <td>3</td>\n",
       "    </tr>\n",
       "    <tr>\n",
       "      <th>3</th>\n",
       "      <td>23</td>\n",
       "      <td>65500</td>\n",
       "      <td>RENT</td>\n",
       "      <td>4.0</td>\n",
       "      <td>MEDICAL</td>\n",
       "      <td>C</td>\n",
       "      <td>35000</td>\n",
       "      <td>15.23</td>\n",
       "      <td>1</td>\n",
       "      <td>0.53</td>\n",
       "      <td>False</td>\n",
       "      <td>2</td>\n",
       "    </tr>\n",
       "    <tr>\n",
       "      <th>4</th>\n",
       "      <td>24</td>\n",
       "      <td>54400</td>\n",
       "      <td>RENT</td>\n",
       "      <td>8.0</td>\n",
       "      <td>MEDICAL</td>\n",
       "      <td>C</td>\n",
       "      <td>35000</td>\n",
       "      <td>14.27</td>\n",
       "      <td>1</td>\n",
       "      <td>0.55</td>\n",
       "      <td>True</td>\n",
       "      <td>4</td>\n",
       "    </tr>\n",
       "  </tbody>\n",
       "</table>\n",
       "</div>"
      ],
      "text/plain": [
       "   person_age  person_income person_home_ownership  person_emp_length  \\\n",
       "0          22          59000                  RENT                4.0   \n",
       "1          21           9600                   OWN                5.0   \n",
       "2          25           9600              MORTGAGE                1.0   \n",
       "3          23          65500                  RENT                4.0   \n",
       "4          24          54400                  RENT                8.0   \n",
       "\n",
       "  loan_intent loan_grade  loan_amnt  loan_int_rate  loan_status  \\\n",
       "0    PERSONAL          D      35000          16.02            1   \n",
       "1   EDUCATION          B       1000          11.14            0   \n",
       "2     MEDICAL          C       5500          12.87            1   \n",
       "3     MEDICAL          C      35000          15.23            1   \n",
       "4     MEDICAL          C      35000          14.27            1   \n",
       "\n",
       "   loan_percent_income  cb_person_default_on_file  cb_person_cred_hist_length  \n",
       "0                 0.59                       True                           3  \n",
       "1                 0.10                      False                           2  \n",
       "2                 0.57                      False                           3  \n",
       "3                 0.53                      False                           2  \n",
       "4                 0.55                       True                           4  "
      ]
     },
     "execution_count": 244,
     "metadata": {},
     "output_type": "execute_result"
    }
   ],
   "source": [
    "credit_df_clean.head()"
   ]
  },
  {
   "cell_type": "markdown",
   "metadata": {},
   "source": [
    "### 2.4: Aplicar Codificação One Hot"
   ]
  },
  {
   "cell_type": "code",
   "execution_count": 245,
   "metadata": {},
   "outputs": [],
   "source": [
    "# Aplicando codificação one-hot\n",
    "credit_df_clean = pd.get_dummies(credit_df_clean, columns=colunas_verificar)"
   ]
  },
  {
   "cell_type": "code",
   "execution_count": 246,
   "metadata": {},
   "outputs": [
    {
     "data": {
      "text/html": [
       "<div>\n",
       "<style scoped>\n",
       "    .dataframe tbody tr th:only-of-type {\n",
       "        vertical-align: middle;\n",
       "    }\n",
       "\n",
       "    .dataframe tbody tr th {\n",
       "        vertical-align: top;\n",
       "    }\n",
       "\n",
       "    .dataframe thead th {\n",
       "        text-align: right;\n",
       "    }\n",
       "</style>\n",
       "<table border=\"1\" class=\"dataframe\">\n",
       "  <thead>\n",
       "    <tr style=\"text-align: right;\">\n",
       "      <th></th>\n",
       "      <th>person_age</th>\n",
       "      <th>person_income</th>\n",
       "      <th>person_emp_length</th>\n",
       "      <th>loan_amnt</th>\n",
       "      <th>loan_int_rate</th>\n",
       "      <th>loan_status</th>\n",
       "      <th>loan_percent_income</th>\n",
       "      <th>cb_person_default_on_file</th>\n",
       "      <th>cb_person_cred_hist_length</th>\n",
       "      <th>person_home_ownership_MORTGAGE</th>\n",
       "      <th>...</th>\n",
       "      <th>loan_intent_MEDICAL</th>\n",
       "      <th>loan_intent_PERSONAL</th>\n",
       "      <th>loan_intent_VENTURE</th>\n",
       "      <th>loan_grade_A</th>\n",
       "      <th>loan_grade_B</th>\n",
       "      <th>loan_grade_C</th>\n",
       "      <th>loan_grade_D</th>\n",
       "      <th>loan_grade_E</th>\n",
       "      <th>loan_grade_F</th>\n",
       "      <th>loan_grade_G</th>\n",
       "    </tr>\n",
       "  </thead>\n",
       "  <tbody>\n",
       "    <tr>\n",
       "      <th>0</th>\n",
       "      <td>22</td>\n",
       "      <td>59000</td>\n",
       "      <td>4.0</td>\n",
       "      <td>35000</td>\n",
       "      <td>16.02</td>\n",
       "      <td>1</td>\n",
       "      <td>0.59</td>\n",
       "      <td>1</td>\n",
       "      <td>3</td>\n",
       "      <td>0</td>\n",
       "      <td>...</td>\n",
       "      <td>0</td>\n",
       "      <td>1</td>\n",
       "      <td>0</td>\n",
       "      <td>0</td>\n",
       "      <td>0</td>\n",
       "      <td>0</td>\n",
       "      <td>1</td>\n",
       "      <td>0</td>\n",
       "      <td>0</td>\n",
       "      <td>0</td>\n",
       "    </tr>\n",
       "    <tr>\n",
       "      <th>1</th>\n",
       "      <td>21</td>\n",
       "      <td>9600</td>\n",
       "      <td>5.0</td>\n",
       "      <td>1000</td>\n",
       "      <td>11.14</td>\n",
       "      <td>0</td>\n",
       "      <td>0.10</td>\n",
       "      <td>0</td>\n",
       "      <td>2</td>\n",
       "      <td>0</td>\n",
       "      <td>...</td>\n",
       "      <td>0</td>\n",
       "      <td>0</td>\n",
       "      <td>0</td>\n",
       "      <td>0</td>\n",
       "      <td>1</td>\n",
       "      <td>0</td>\n",
       "      <td>0</td>\n",
       "      <td>0</td>\n",
       "      <td>0</td>\n",
       "      <td>0</td>\n",
       "    </tr>\n",
       "    <tr>\n",
       "      <th>2</th>\n",
       "      <td>25</td>\n",
       "      <td>9600</td>\n",
       "      <td>1.0</td>\n",
       "      <td>5500</td>\n",
       "      <td>12.87</td>\n",
       "      <td>1</td>\n",
       "      <td>0.57</td>\n",
       "      <td>0</td>\n",
       "      <td>3</td>\n",
       "      <td>1</td>\n",
       "      <td>...</td>\n",
       "      <td>1</td>\n",
       "      <td>0</td>\n",
       "      <td>0</td>\n",
       "      <td>0</td>\n",
       "      <td>0</td>\n",
       "      <td>1</td>\n",
       "      <td>0</td>\n",
       "      <td>0</td>\n",
       "      <td>0</td>\n",
       "      <td>0</td>\n",
       "    </tr>\n",
       "    <tr>\n",
       "      <th>3</th>\n",
       "      <td>23</td>\n",
       "      <td>65500</td>\n",
       "      <td>4.0</td>\n",
       "      <td>35000</td>\n",
       "      <td>15.23</td>\n",
       "      <td>1</td>\n",
       "      <td>0.53</td>\n",
       "      <td>0</td>\n",
       "      <td>2</td>\n",
       "      <td>0</td>\n",
       "      <td>...</td>\n",
       "      <td>1</td>\n",
       "      <td>0</td>\n",
       "      <td>0</td>\n",
       "      <td>0</td>\n",
       "      <td>0</td>\n",
       "      <td>1</td>\n",
       "      <td>0</td>\n",
       "      <td>0</td>\n",
       "      <td>0</td>\n",
       "      <td>0</td>\n",
       "    </tr>\n",
       "    <tr>\n",
       "      <th>4</th>\n",
       "      <td>24</td>\n",
       "      <td>54400</td>\n",
       "      <td>8.0</td>\n",
       "      <td>35000</td>\n",
       "      <td>14.27</td>\n",
       "      <td>1</td>\n",
       "      <td>0.55</td>\n",
       "      <td>1</td>\n",
       "      <td>4</td>\n",
       "      <td>0</td>\n",
       "      <td>...</td>\n",
       "      <td>1</td>\n",
       "      <td>0</td>\n",
       "      <td>0</td>\n",
       "      <td>0</td>\n",
       "      <td>0</td>\n",
       "      <td>1</td>\n",
       "      <td>0</td>\n",
       "      <td>0</td>\n",
       "      <td>0</td>\n",
       "      <td>0</td>\n",
       "    </tr>\n",
       "  </tbody>\n",
       "</table>\n",
       "<p>5 rows × 26 columns</p>\n",
       "</div>"
      ],
      "text/plain": [
       "   person_age  person_income  person_emp_length  loan_amnt  loan_int_rate  \\\n",
       "0          22          59000                4.0      35000          16.02   \n",
       "1          21           9600                5.0       1000          11.14   \n",
       "2          25           9600                1.0       5500          12.87   \n",
       "3          23          65500                4.0      35000          15.23   \n",
       "4          24          54400                8.0      35000          14.27   \n",
       "\n",
       "   loan_status  loan_percent_income  cb_person_default_on_file  \\\n",
       "0            1                 0.59                          1   \n",
       "1            0                 0.10                          0   \n",
       "2            1                 0.57                          0   \n",
       "3            1                 0.53                          0   \n",
       "4            1                 0.55                          1   \n",
       "\n",
       "   cb_person_cred_hist_length  person_home_ownership_MORTGAGE  ...  \\\n",
       "0                           3                               0  ...   \n",
       "1                           2                               0  ...   \n",
       "2                           3                               1  ...   \n",
       "3                           2                               0  ...   \n",
       "4                           4                               0  ...   \n",
       "\n",
       "   loan_intent_MEDICAL  loan_intent_PERSONAL  loan_intent_VENTURE  \\\n",
       "0                    0                     1                    0   \n",
       "1                    0                     0                    0   \n",
       "2                    1                     0                    0   \n",
       "3                    1                     0                    0   \n",
       "4                    1                     0                    0   \n",
       "\n",
       "   loan_grade_A  loan_grade_B  loan_grade_C  loan_grade_D  loan_grade_E  \\\n",
       "0             0             0             0             1             0   \n",
       "1             0             1             0             0             0   \n",
       "2             0             0             1             0             0   \n",
       "3             0             0             1             0             0   \n",
       "4             0             0             1             0             0   \n",
       "\n",
       "   loan_grade_F  loan_grade_G  \n",
       "0             0             0  \n",
       "1             0             0  \n",
       "2             0             0  \n",
       "3             0             0  \n",
       "4             0             0  \n",
       "\n",
       "[5 rows x 26 columns]"
      ]
     },
     "execution_count": 246,
     "metadata": {},
     "output_type": "execute_result"
    }
   ],
   "source": [
    "# Converter colunas booleanas para inteiros (0 e 1)\n",
    "colunas_bool = credit_df_clean.select_dtypes(include='bool').columns\n",
    "credit_df_clean[colunas_bool] = credit_df_clean[colunas_bool].astype(int)\n",
    "\n",
    "credit_df_clean.head()"
   ]
  },
  {
   "cell_type": "markdown",
   "metadata": {},
   "source": [
    "### 2.5: Correlação"
   ]
  },
  {
   "cell_type": "code",
   "execution_count": 247,
   "metadata": {},
   "outputs": [
    {
     "name": "stdout",
     "output_type": "stream",
     "text": [
      "loan_status                       1.000000\n",
      "loan_percent_income               0.379366\n",
      "loan_int_rate                     0.319360\n",
      "loan_grade_D                      0.318998\n",
      "person_home_ownership_RENT        0.238430\n",
      "loan_grade_A                      0.201891\n",
      "person_home_ownership_MORTGAGE    0.187637\n",
      "loan_grade_E                      0.180122\n",
      "cb_person_default_on_file         0.179141\n",
      "person_income                     0.144449\n",
      "loan_amnt                         0.105376\n",
      "person_home_ownership_OWN         0.101960\n",
      "loan_grade_F                      0.101841\n",
      "loan_grade_B                      0.092190\n",
      "person_emp_length                 0.085630\n",
      "loan_grade_G                      0.082306\n",
      "loan_intent_VENTURE               0.078274\n",
      "loan_intent_DEBTCONSOLIDATION     0.071550\n",
      "loan_intent_MEDICAL               0.056595\n",
      "loan_intent_EDUCATION             0.055348\n",
      "loan_intent_HOMEIMPROVEMENT       0.036607\n",
      "person_age                        0.021629\n",
      "loan_intent_PERSONAL              0.021094\n",
      "cb_person_cred_hist_length        0.015529\n",
      "loan_grade_C                      0.013031\n",
      "person_home_ownership_OTHER       0.012543\n",
      "Name: loan_status, dtype: float64\n"
     ]
    }
   ],
   "source": [
    "# Supondo que 'loan_status' já esteja numérico (0 para adimplente, 1 para inadimplente)\n",
    "correlation_matrix = credit_df_clean.corr()\n",
    "correlations = correlation_matrix[\"loan_status\"].abs().sort_values(ascending=False)\n",
    "\n",
    "# Exibir as maiores correlações com loan_status\n",
    "print(correlations)"
   ]
  },
  {
   "cell_type": "code",
   "execution_count": 276,
   "metadata": {},
   "outputs": [
    {
     "data": {
      "image/png": "[encoded data removed]",
      "text/plain": [
       "<Figure size 1000x600 with 2 Axes>"
      ]
     },
     "metadata": {},
     "output_type": "display_data"
    }
   ],
   "source": [
    "# Selecionar apenas as colunas com correlação acima de um certo limiar (ex: 0.1)\n",
    "high_corr_features = correlations[correlations > 0.2].index\n",
    "filtered_corr_matrix = correlation_matrix.loc[high_corr_features, high_corr_features]\n",
    "\n",
    "# Plotar a matriz de correlação filtrada\n",
    "plt.figure(figsize=(10, 6))\n",
    "sns.heatmap(filtered_corr_matrix, annot=True, fmt=\".2f\", cmap=\"coolwarm\", linewidths=0.5)\n",
    "plt.title(\"Matriz de Correlação\")\n",
    "\n",
    "# # Salvar o gráfico como um arquivo de imagem (por exemplo, PNG)\n",
    "# plt.savefig('Matriz_Correlação.png', bbox_inches='tight')\n",
    "\n",
    "plt.show()"
   ]
  },
  {
   "cell_type": "markdown",
   "metadata": {},
   "source": [
    "### 2.6: Dividir Dados"
   ]
  },
  {
   "cell_type": "code",
   "execution_count": 249,
   "metadata": {},
   "outputs": [
    {
     "name": "stdout",
     "output_type": "stream",
     "text": [
      "Forma do conjunto de treino: (19548, 25) (19548,)\n",
      "Forma do conjunto de validação: (6516, 25) (6516,)\n",
      "Forma do conjunto de teste: (6517, 25) (6517,)\n"
     ]
    }
   ],
   "source": [
    "from sklearn.model_selection import train_test_split\n",
    "\n",
    "# Extraindo as características (X) e o alvo (y) do DataFrame\n",
    "X = credit_df_clean.drop(columns=['loan_status'])\n",
    "y = credit_df_clean['loan_status']\n",
    "\n",
    "# Dividindo os dados em conjuntos de treino e teste com estratificação\n",
    "X_train_val, X_test, y_train_val, y_test = train_test_split(X, y, test_size=0.2, stratify=y, random_state=42)\n",
    "X_train, X_val, y_train, y_val = train_test_split(X_train_val, y_train_val, test_size=0.25, random_state=42)  # Splitting again to obtain the validation set\n",
    "\n",
    "# Exibindo as dimensões dos conjuntos de dados resultantes\n",
    "print(\"Forma do conjunto de treino:\", X_train.shape, y_train.shape)\n",
    "print(\"Forma do conjunto de validação:\", X_val.shape, y_val.shape)\n",
    "print(\"Forma do conjunto de teste:\", X_test.shape, y_test.shape)"
   ]
  },
  {
   "cell_type": "markdown",
   "metadata": {},
   "source": [
    "### 2.7: Realizar Standard Scaler"
   ]
  },
  {
   "cell_type": "code",
   "execution_count": 250,
   "metadata": {},
   "outputs": [
    {
     "data": {
      "text/plain": [
       "array([[-0.89819344,  0.22797028,  0.06152376, ..., -0.17439852,\n",
       "        -0.08704556, -0.04235181],\n",
       "       [-0.58412698, -0.45591566, -0.93819905, ..., -0.17439852,\n",
       "        -0.08704556, -0.04235181],\n",
       "       [-0.74116021, -0.55428158, -0.18840694, ..., -0.17439852,\n",
       "        -0.08704556, -0.04235181],\n",
       "       ...,\n",
       "       [-0.42709375, -0.35647077,  1.06124658, ..., -0.17439852,\n",
       "        -0.08704556, -0.04235181],\n",
       "       [ 1.30027178, -0.55128445,  1.06124658, ..., -0.17439852,\n",
       "        -0.08704556, -0.04235181],\n",
       "       [ 0.3580724 , -0.47566677, -0.68826835, ..., -0.17439852,\n",
       "        -0.08704556, -0.04235181]], shape=(19548, 25))"
      ]
     },
     "execution_count": 250,
     "metadata": {},
     "output_type": "execute_result"
    }
   ],
   "source": [
    "from sklearn.preprocessing import StandardScaler\n",
    "\n",
    "# Criar o objeto StandardScaler\n",
    "scaler = StandardScaler()\n",
    "\n",
    "# Ajustar o scaler apenas ao conjunto de treinamento\n",
    "X_train = scaler.fit_transform(X_train)\n",
    "\n",
    "# Transformar os conjuntos de validação e teste\n",
    "X_val = scaler.transform(X_val)\n",
    "X_test = scaler.transform(X_test)\n",
    "\n",
    "X_train"
   ]
  },
  {
   "cell_type": "markdown",
   "metadata": {},
   "source": [
    "### 2.8: Aplicar Undersampler"
   ]
  },
  {
   "cell_type": "code",
   "execution_count": 251,
   "metadata": {},
   "outputs": [
    {
     "name": "stdout",
     "output_type": "stream",
     "text": [
      "Forma do conjunto de treinamento após undersampling: (8554, 25) (8554,)\n"
     ]
    }
   ],
   "source": [
    "from imblearn.under_sampling import RandomUnderSampler\n",
    "\n",
    "# Criar o amostrador para undersampling\n",
    "undersampler = RandomUnderSampler(random_state=42)\n",
    "\n",
    "# Aplicar undersampling apenas ao conjunto de treinamento\n",
    "X_train_us, y_train_us = undersampler.fit_resample(X_train, y_train)\n",
    "\n",
    "print(\"Forma do conjunto de treinamento após undersampling:\", X_train_us.shape, y_train_us.shape)"
   ]
  },
  {
   "cell_type": "markdown",
   "metadata": {},
   "source": [
    "### 2.9: Utilizar SMOTE"
   ]
  },
  {
   "cell_type": "code",
   "execution_count": 252,
   "metadata": {},
   "outputs": [
    {
     "name": "stdout",
     "output_type": "stream",
     "text": [
      "Forma do conjunto de treinamento com SMOTE: (30542, 25) (30542,)\n"
     ]
    }
   ],
   "source": [
    "from imblearn.over_sampling import SMOTE\n",
    "\n",
    "# Aplicar o SMOTE apenas no conjunto de treinamento para lidar com o desequilíbrio de classes\n",
    "smote = SMOTE(random_state=42)\n",
    "X_train_smote, y_train_smote = smote.fit_resample(X_train, y_train)\n",
    "\n",
    "print(\"Forma do conjunto de treinamento com SMOTE:\", X_train_smote.shape, y_train_smote.shape)"
   ]
  },
  {
   "cell_type": "code",
   "execution_count": 253,
   "metadata": {},
   "outputs": [
    {
     "data": {
      "text/plain": [
       "loan_status\n",
       "0    15271\n",
       "1    15271\n",
       "Name: count, dtype: int64"
      ]
     },
     "execution_count": 253,
     "metadata": {},
     "output_type": "execute_result"
    }
   ],
   "source": [
    "# Contando as ocorrências de cada classe nos conjuntos de treinamento, validação e teste\n",
    "pd.Series(y_train_smote).value_counts()"
   ]
  },
  {
   "cell_type": "markdown",
   "metadata": {},
   "source": [
    "# Etapa 3: Construção de Modelos de Machine Learning"
   ]
  },
  {
   "cell_type": "markdown",
   "metadata": {},
   "source": [
    "### 3.1: Regressão Logística"
   ]
  },
  {
   "cell_type": "markdown",
   "metadata": {},
   "source": [
    "- Padrão"
   ]
  },
  {
   "cell_type": "code",
   "execution_count": 254,
   "metadata": {},
   "outputs": [
    {
     "name": "stdout",
     "output_type": "stream",
     "text": [
      "              precision    recall  f1-score   support\n",
      "\n",
      "Not Approved       0.88      0.95      0.92      5107\n",
      "    Approved       0.77      0.55      0.64      1409\n",
      "\n",
      "    accuracy                           0.87      6516\n",
      "   macro avg       0.83      0.75      0.78      6516\n",
      "weighted avg       0.86      0.87      0.86      6516\n",
      "\n"
     ]
    }
   ],
   "source": [
    "from sklearn.linear_model import LogisticRegression\n",
    "from sklearn.metrics import classification_report\n",
    "\n",
    "# Instanciar o modelo de regressão logística\n",
    "logistic_model = LogisticRegression(random_state=42)\n",
    "\n",
    "# Treinar o modelo de regressão logística\n",
    "logistic_model.fit(X_train, y_train)\n",
    "\n",
    "# Gerar o relatório de classificação para o conjunto de validação original desbalanceado\n",
    "print(classification_report(y_val, logistic_model.predict(X_val), target_names=['Not Approved', 'Approved']))"
   ]
  },
  {
   "cell_type": "markdown",
   "metadata": {},
   "source": [
    "- Undersampling"
   ]
  },
  {
   "cell_type": "code",
   "execution_count": 255,
   "metadata": {},
   "outputs": [
    {
     "name": "stdout",
     "output_type": "stream",
     "text": [
      "              precision    recall  f1-score   support\n",
      "\n",
      "Not Approved       0.93      0.82      0.87      5107\n",
      "    Approved       0.54      0.78      0.64      1409\n",
      "\n",
      "    accuracy                           0.81      6516\n",
      "   macro avg       0.74      0.80      0.76      6516\n",
      "weighted avg       0.85      0.81      0.82      6516\n",
      "\n"
     ]
    }
   ],
   "source": [
    "# Treinar o modelo de regressão logística\n",
    "logistic_model.fit(X_train_us, y_train_us)\n",
    "\n",
    "# Gerar o relatório de classificação para o conjunto de validação original desbalanceado\n",
    "print(classification_report(y_val, logistic_model.predict(X_val), target_names=['Not Approved', 'Approved']))"
   ]
  },
  {
   "cell_type": "markdown",
   "metadata": {},
   "source": [
    "- SMOTE"
   ]
  },
  {
   "cell_type": "code",
   "execution_count": 256,
   "metadata": {},
   "outputs": [
    {
     "name": "stdout",
     "output_type": "stream",
     "text": [
      "              precision    recall  f1-score   support\n",
      "\n",
      "Not Approved       0.93      0.82      0.87      5107\n",
      "    Approved       0.54      0.78      0.64      1409\n",
      "\n",
      "    accuracy                           0.81      6516\n",
      "   macro avg       0.74      0.80      0.76      6516\n",
      "weighted avg       0.85      0.81      0.82      6516\n",
      "\n"
     ]
    }
   ],
   "source": [
    "# Treinar o modelo de regressão logística\n",
    "logistic_model.fit(X_train_smote, y_train_smote)\n",
    "\n",
    "# Gerar o relatório de classificação para o conjunto de validação original desbalanceado\n",
    "print(classification_report(y_val, logistic_model.predict(X_val), target_names=['Not Approved', 'Approved']))"
   ]
  },
  {
   "cell_type": "markdown",
   "metadata": {},
   "source": [
    "### 3.2: Random Forest"
   ]
  },
  {
   "cell_type": "markdown",
   "metadata": {},
   "source": [
    "- Padrão"
   ]
  },
  {
   "cell_type": "code",
   "execution_count": 257,
   "metadata": {},
   "outputs": [
    {
     "name": "stdout",
     "output_type": "stream",
     "text": [
      "              precision    recall  f1-score   support\n",
      "\n",
      "Not Approved       0.92      0.99      0.96      5107\n",
      "    Approved       0.97      0.70      0.81      1409\n",
      "\n",
      "    accuracy                           0.93      6516\n",
      "   macro avg       0.95      0.85      0.89      6516\n",
      "weighted avg       0.93      0.93      0.93      6516\n",
      "\n"
     ]
    }
   ],
   "source": [
    "from sklearn.ensemble import RandomForestClassifier\n",
    "\n",
    "# Inicializar o modelo Random Forest.\n",
    "rf_model = RandomForestClassifier(random_state=42)\n",
    "\n",
    "# Treinar o modelo.\n",
    "rf_model.fit(X_train, y_train)\n",
    "# Gerar o relatório de classificação para o conjunto de validação original desbalanceado\n",
    "print(classification_report(y_val, rf_model.predict(X_val), target_names=['Not Approved', 'Approved']))"
   ]
  },
  {
   "cell_type": "markdown",
   "metadata": {},
   "source": [
    "- Undersampling"
   ]
  },
  {
   "cell_type": "code",
   "execution_count": 258,
   "metadata": {},
   "outputs": [
    {
     "name": "stdout",
     "output_type": "stream",
     "text": [
      "              precision    recall  f1-score   support\n",
      "\n",
      "Not Approved       0.94      0.92      0.93      5107\n",
      "    Approved       0.73      0.79      0.76      1409\n",
      "\n",
      "    accuracy                           0.89      6516\n",
      "   macro avg       0.83      0.85      0.84      6516\n",
      "weighted avg       0.89      0.89      0.89      6516\n",
      "\n"
     ]
    }
   ],
   "source": [
    "# Train the Random Forest classifier \n",
    "rf_model.fit(X_train_us, y_train_us)\n",
    "\n",
    "# Generate classification report for the original imbalanced validation set\n",
    "print(classification_report(y_val, rf_model.predict(X_val), target_names=['Not Approved', 'Approved']))"
   ]
  },
  {
   "cell_type": "markdown",
   "metadata": {},
   "source": [
    "- SMOTE"
   ]
  },
  {
   "cell_type": "code",
   "execution_count": 259,
   "metadata": {},
   "outputs": [
    {
     "name": "stdout",
     "output_type": "stream",
     "text": [
      "              precision    recall  f1-score   support\n",
      "\n",
      "Not Approved       0.93      0.98      0.95      5107\n",
      "    Approved       0.91      0.72      0.81      1409\n",
      "\n",
      "    accuracy                           0.93      6516\n",
      "   macro avg       0.92      0.85      0.88      6516\n",
      "weighted avg       0.92      0.93      0.92      6516\n",
      "\n"
     ]
    }
   ],
   "source": [
    "# Treinar o classificador Random Forest\n",
    "rf_model.fit(X_train_smote, y_train_smote)\n",
    "\n",
    "# Gerar o relatório de classificação para o conjunto de validação original desbalanceado\n",
    "print(classification_report(y_val, rf_model.predict(X_val), target_names=['Not Approved', 'Approved']))"
   ]
  },
  {
   "cell_type": "markdown",
   "metadata": {},
   "source": [
    "### 3.3: Gradient Boosting"
   ]
  },
  {
   "cell_type": "code",
   "execution_count": 260,
   "metadata": {},
   "outputs": [],
   "source": [
    "from sklearn.metrics import classification_report\n",
    "from sklearn.ensemble import GradientBoostingClassifier\n",
    "\n",
    "# Inicializar o modelo Gradient Boosting.\n",
    "gb_model = GradientBoostingClassifier(random_state=42)"
   ]
  },
  {
   "cell_type": "code",
   "execution_count": 261,
   "metadata": {},
   "outputs": [],
   "source": [
    "# from sklearn.model_selection import GridSearchCV\n",
    "# from sklearn.metrics import accuracy_score, classification_report, confusion_matrix\n",
    "\n",
    "# # Definir os parâmetros a serem ajustados\n",
    "# param_grid_gb = {\n",
    "#     'n_estimators': [50, 100, 150],\n",
    "#     'learning_rate': [0.01, 0.1, 0.2],\n",
    "#     'max_depth': [3, 4, 5],\n",
    "#     'min_samples_split': [2, 5, 10],\n",
    "#     'min_samples_leaf': [1, 2, 4],\n",
    "#     'subsample': [0.8, 0.9, 1.0]\n",
    "# }\n",
    "\n",
    "# # Inicializar o modelo de Gradient Boosting\n",
    "# gb_model = GradientBoostingClassifier(random_state=42)\n",
    "\n",
    "# # Criar o objeto GridSearchCV\n",
    "# grid_search_gb = GridSearchCV(gb_model, param_grid_gb, cv=5, scoring='accuracy', n_jobs=-1)\n",
    "\n",
    "# # Realizar a busca em grade nos dados de treinamento\n",
    "# grid_search_gb.fit(X_train, y_train)\n",
    "\n",
    "# # Melhores parâmetros encontrados\n",
    "# best_params_gb = grid_search_gb.best_params_\n",
    "\n",
    "# # Treinar o modelo com os melhores parâmetros\n",
    "# best_model_gb = grid_search_gb.best_estimator_\n",
    "# best_model_gb.fit(X_train, y_train)\n",
    "\n",
    "# # Fazer previsões no conjunto de teste\n",
    "# y_pred_gb = best_model_gb.predict(X_test)\n",
    "\n",
    "# # Avaliar o desempenho do modelo\n",
    "# accuracy_gb = accuracy_score(y_test, y_pred_gb)\n",
    "# conf_matrix_gb = confusion_matrix(y_test, y_pred_gb)\n",
    "# classification_rep_gb = classification_report(y_test, y_pred_gb)\n",
    "\n",
    "# # Exibir métricas de desempenho e melhores parâmetros\n",
    "# print(f'Melhores Parâmetros do Gradient Boosting: {best_params_gb}')\n",
    "# print(f'Precisão do Gradient Boosting: {accuracy_gb:.4f}')\n",
    "# print(f'Matriz de Confusão para Gradient Boosting:\\n{conf_matrix_gb}')\n",
    "# print(f'Relatório de Classificação para Gradient Boosting:\\n{classification_rep_gb}')"
   ]
  },
  {
   "cell_type": "markdown",
   "metadata": {},
   "source": [
    "- Padrão"
   ]
  },
  {
   "cell_type": "code",
   "execution_count": 262,
   "metadata": {},
   "outputs": [
    {
     "name": "stdout",
     "output_type": "stream",
     "text": [
      "              precision    recall  f1-score   support\n",
      "\n",
      "Não Aprovado       0.93      0.99      0.96      5107\n",
      "    Aprovado       0.97      0.71      0.82      1409\n",
      "\n",
      "    accuracy                           0.93      6516\n",
      "   macro avg       0.95      0.85      0.89      6516\n",
      "weighted avg       0.94      0.93      0.93      6516\n",
      "\n"
     ]
    }
   ],
   "source": [
    "# Inicializar o modelo Gradient Boosting.\n",
    "gb_model = GradientBoostingClassifier(learning_rate=0.1, max_depth=5, min_samples_leaf=1, min_samples_split=10, n_estimators=150, subsample=0.9, random_state=42)\n",
    "\n",
    "# Treinar o modelo.\n",
    "gb_model.fit(X_train, y_train)\n",
    "\n",
    "# Gerar o relatório de classificação \n",
    "print(classification_report(y_val, gb_model.predict(X_val), target_names=['Não Aprovado', 'Aprovado']))"
   ]
  },
  {
   "cell_type": "markdown",
   "metadata": {},
   "source": [
    "- Undersampling"
   ]
  },
  {
   "cell_type": "code",
   "execution_count": 263,
   "metadata": {},
   "outputs": [
    {
     "name": "stdout",
     "output_type": "stream",
     "text": [
      "              precision    recall  f1-score   support\n",
      "\n",
      "Não Aprovado       0.95      0.93      0.94      5107\n",
      "    Aprovado       0.76      0.82      0.78      1409\n",
      "\n",
      "    accuracy                           0.90      6516\n",
      "   macro avg       0.85      0.87      0.86      6516\n",
      "weighted avg       0.91      0.90      0.90      6516\n",
      "\n"
     ]
    }
   ],
   "source": [
    "# Treinar o modelo.\n",
    "gb_model.fit(X_train_us, y_train_us)\n",
    "\n",
    "# Gerar o relatório de classificação \n",
    "print(classification_report(y_val, gb_model.predict(X_val), target_names=['Não Aprovado', 'Aprovado']))"
   ]
  },
  {
   "cell_type": "markdown",
   "metadata": {},
   "source": [
    "- SMOTE"
   ]
  },
  {
   "cell_type": "code",
   "execution_count": 264,
   "metadata": {},
   "outputs": [
    {
     "name": "stdout",
     "output_type": "stream",
     "text": [
      "              precision    recall  f1-score   support\n",
      "\n",
      "Não Aprovado       0.92      0.99      0.96      5107\n",
      "    Aprovado       0.96      0.70      0.81      1409\n",
      "\n",
      "    accuracy                           0.93      6516\n",
      "   macro avg       0.94      0.85      0.88      6516\n",
      "weighted avg       0.93      0.93      0.93      6516\n",
      "\n"
     ]
    }
   ],
   "source": [
    "# Treinar o modelo.\n",
    "gb_model.fit(X_train_smote, y_train_smote)\n",
    "\n",
    "# Gerar o relatório de classificação \n",
    "print(classification_report(y_val, gb_model.predict(X_val), target_names=['Não Aprovado', 'Aprovado']))"
   ]
  },
  {
   "cell_type": "markdown",
   "metadata": {},
   "source": [
    "### 3.4: Máquina de Vetores de Suporte (SVM)"
   ]
  },
  {
   "cell_type": "code",
   "execution_count": 265,
   "metadata": {},
   "outputs": [
    {
     "name": "stdout",
     "output_type": "stream",
     "text": [
      "              precision    recall  f1-score   support\n",
      "\n",
      "Not Approved       0.91      0.99      0.94      5107\n",
      "    Approved       0.93      0.63      0.75      1409\n",
      "\n",
      "    accuracy                           0.91      6516\n",
      "   macro avg       0.92      0.81      0.85      6516\n",
      "weighted avg       0.91      0.91      0.90      6516\n",
      "\n"
     ]
    }
   ],
   "source": [
    "from sklearn.svm import SVC\n",
    "\n",
    "# Inicializar o modelo SVM.\n",
    "svm_model = SVC(random_state=42)\n",
    "\n",
    "# Treinar o modelo.\n",
    "svm_model.fit(X_train, y_train)\n",
    "\n",
    "# Gerar o relatório de classificação para o conjunto de validação original desbalanceado\n",
    "print(classification_report(y_val, svm_model.predict(X_val), target_names=['Not Approved', 'Approved']))"
   ]
  },
  {
   "cell_type": "markdown",
   "metadata": {},
   "source": [
    "### 3.5: K-Nearest Neighbors (KNN)"
   ]
  },
  {
   "cell_type": "code",
   "execution_count": 266,
   "metadata": {},
   "outputs": [],
   "source": [
    "from sklearn.neighbors import KNeighborsClassifier\n",
    "\n",
    "# Inicializar o modelo KNN.\n",
    "knn_model = KNeighborsClassifier(metric= 'manhattan', n_neighbors=9, weights='distance')"
   ]
  },
  {
   "cell_type": "markdown",
   "metadata": {},
   "source": [
    "- Padrão"
   ]
  },
  {
   "cell_type": "code",
   "execution_count": 267,
   "metadata": {},
   "outputs": [
    {
     "name": "stdout",
     "output_type": "stream",
     "text": [
      "              precision    recall  f1-score   support\n",
      "\n",
      "Not Approved       0.90      0.98      0.94      5107\n",
      "    Approved       0.90      0.61      0.73      1409\n",
      "\n",
      "    accuracy                           0.90      6516\n",
      "   macro avg       0.90      0.80      0.83      6516\n",
      "weighted avg       0.90      0.90      0.89      6516\n",
      "\n"
     ]
    }
   ],
   "source": [
    "# Treinar o modelo.\n",
    "knn_model.fit(X_train, y_train)\n",
    "\n",
    "# Gerar o relatório de classificação para o conjunto de validação original desbalanceado\n",
    "print(classification_report(y_val, knn_model.predict(X_val), target_names=['Not Approved', 'Approved']))"
   ]
  },
  {
   "cell_type": "code",
   "execution_count": 268,
   "metadata": {},
   "outputs": [],
   "source": [
    "# from sklearn.model_selection import GridSearchCV\n",
    "\n",
    "# # Define the parameters you want to test\n",
    "# param_grid = {\n",
    "#     'n_neighbors': [3, 5, 7, 9],  # test different values for the number of neighbors\n",
    "#     'weights': ['uniform', 'distance'],  # test different weighting methods\n",
    "#     'metric': ['euclidean', 'manhattan']  # test different distance metrics\n",
    "# }\n",
    "\n",
    "# # Initialize the KNN model\n",
    "# knn_model = KNeighborsClassifier()\n",
    "\n",
    "# # Initialize the grid search\n",
    "# grid_search = GridSearchCV(estimator=knn_model, param_grid=param_grid, scoring='accuracy', cv=5)\n",
    "\n",
    "# # Perform grid search on the training set\n",
    "# grid_search.fit(X_train, y_train)\n",
    "\n",
    "# # Get the best parameters found\n",
    "# best_params = grid_search.best_params_\n",
    "\n",
    "# # Train the model with the best parameters on the full training set\n",
    "# best_knn_model = KNeighborsClassifier(**best_params)\n",
    "# best_knn_model.fit(X_train, y_train)\n",
    "\n",
    "# # Make predictions on the test set using the optimized model\n",
    "# y_pred_best_knn = best_knn_model.predict(X_test)\n",
    "\n",
    "# # Evaluate the performance of the optimized model\n",
    "# accuracy_best_knn = accuracy_score(y_test, y_pred_best_knn)\n",
    "# conf_matrix_best_knn = confusion_matrix(y_test, y_pred_best_knn)\n",
    "# classification_rep_best_knn = classification_report(y_test, y_pred_best_knn)\n",
    "\n",
    "# # Display performance metrics of the optimized model\n",
    "# print(f'Best parameters found: {best_params}')\n",
    "# print(f'Optimized KNN accuracy: {accuracy_best_knn:.4f}')\n",
    "# print(f'Confusion Matrix for Optimized KNN:\\n{conf_matrix_best_knn}')\n",
    "# print(f'Classification Report for Optimized KNN:\\n{classification_rep_best_knn}')"
   ]
  },
  {
   "cell_type": "markdown",
   "metadata": {},
   "source": [
    "- Undersampling"
   ]
  },
  {
   "cell_type": "code",
   "execution_count": 269,
   "metadata": {},
   "outputs": [
    {
     "name": "stdout",
     "output_type": "stream",
     "text": [
      "              precision    recall  f1-score   support\n",
      "\n",
      "Not Approved       0.93      0.86      0.89      5107\n",
      "    Approved       0.59      0.76      0.67      1409\n",
      "\n",
      "    accuracy                           0.84      6516\n",
      "   macro avg       0.76      0.81      0.78      6516\n",
      "weighted avg       0.86      0.84      0.84      6516\n",
      "\n"
     ]
    }
   ],
   "source": [
    "# Treinar o modelo.\n",
    "knn_model.fit(X_train_us, y_train_us)\n",
    "\n",
    "# Gerar o relatório de classificação para o conjunto de validação original desbalanceado\n",
    "print(classification_report(y_val, knn_model.predict(X_val), target_names=['Not Approved', 'Approved']))"
   ]
  },
  {
   "cell_type": "markdown",
   "metadata": {},
   "source": [
    "- SMOTE"
   ]
  },
  {
   "cell_type": "code",
   "execution_count": 270,
   "metadata": {},
   "outputs": [
    {
     "name": "stdout",
     "output_type": "stream",
     "text": [
      "              precision    recall  f1-score   support\n",
      "\n",
      "Not Approved       0.93      0.85      0.89      5107\n",
      "    Approved       0.59      0.76      0.66      1409\n",
      "\n",
      "    accuracy                           0.83      6516\n",
      "   macro avg       0.76      0.81      0.78      6516\n",
      "weighted avg       0.85      0.83      0.84      6516\n",
      "\n"
     ]
    }
   ],
   "source": [
    "# Treinar o modelo.\n",
    "knn_model.fit(X_train_smote, y_train_smote)\n",
    "\n",
    "# Gerar o relatório de classificação para o conjunto de validação original desbalanceado\n",
    "print(classification_report(y_val, knn_model.predict(X_val), target_names=['Not Approved', 'Approved']))"
   ]
  },
  {
   "cell_type": "markdown",
   "metadata": {},
   "source": [
    "### 3.6: Redes Neurais"
   ]
  },
  {
   "cell_type": "markdown",
   "metadata": {},
   "source": [
    "- Normal"
   ]
  },
  {
   "cell_type": "code",
   "execution_count": 271,
   "metadata": {},
   "outputs": [
    {
     "name": "stdout",
     "output_type": "stream",
     "text": [
      "              precision    recall  f1-score   support\n",
      "\n",
      "Not Approved       0.92      0.97      0.95      5107\n",
      "    Approved       0.88      0.69      0.78      1409\n",
      "\n",
      "    accuracy                           0.91      6516\n",
      "   macro avg       0.90      0.83      0.86      6516\n",
      "weighted avg       0.91      0.91      0.91      6516\n",
      "\n"
     ]
    }
   ],
   "source": [
    "from sklearn.neural_network import MLPClassifier\n",
    "from sklearn.metrics import accuracy_score, classification_report, confusion_matrix\n",
    "\n",
    "# Inicializar o modelo Rede Neural.\n",
    "mlp_model = MLPClassifier(max_iter=500, random_state=42)\n",
    "\n",
    "# Treinar o modelo.\n",
    "mlp_model.fit(X_train, y_train)\n",
    "\n",
    "# Gerar o relatório de classificação para o conjunto de validação original desbalanceado\n",
    "print(classification_report(y_val, mlp_model.predict(X_val), target_names=['Not Approved', 'Approved']))"
   ]
  },
  {
   "cell_type": "markdown",
   "metadata": {},
   "source": [
    "- Undersampling"
   ]
  },
  {
   "cell_type": "code",
   "execution_count": 272,
   "metadata": {},
   "outputs": [
    {
     "name": "stdout",
     "output_type": "stream",
     "text": [
      "              precision    recall  f1-score   support\n",
      "\n",
      "Not Approved       0.94      0.88      0.91      5107\n",
      "    Approved       0.65      0.79      0.71      1409\n",
      "\n",
      "    accuracy                           0.86      6516\n",
      "   macro avg       0.79      0.83      0.81      6516\n",
      "weighted avg       0.87      0.86      0.87      6516\n",
      "\n"
     ]
    }
   ],
   "source": [
    "# Treinar o modelo.\n",
    "mlp_model.fit(X_train_us, y_train_us)\n",
    "\n",
    "# Gerar o relatório de classificação para o conjunto de validação original desbalanceado\n",
    "print(classification_report(y_val, mlp_model.predict(X_val), target_names=['Not Approved', 'Approved']))"
   ]
  },
  {
   "cell_type": "markdown",
   "metadata": {},
   "source": [
    "- SMOTE"
   ]
  },
  {
   "cell_type": "code",
   "execution_count": 273,
   "metadata": {},
   "outputs": [
    {
     "name": "stdout",
     "output_type": "stream",
     "text": [
      "              precision    recall  f1-score   support\n",
      "\n",
      "Not Approved       0.93      0.91      0.92      5107\n",
      "    Approved       0.70      0.74      0.72      1409\n",
      "\n",
      "    accuracy                           0.88      6516\n",
      "   macro avg       0.82      0.83      0.82      6516\n",
      "weighted avg       0.88      0.88      0.88      6516\n",
      "\n"
     ]
    }
   ],
   "source": [
    "# Treinar o modelo.\n",
    "mlp_model.fit(X_train_smote, y_train_smote)\n",
    "\n",
    "# Gerar o relatório de classificação para o conjunto de validação original desbalanceado\n",
    "print(classification_report(y_val, mlp_model.predict(X_val), target_names=['Not Approved', 'Approved']))"
   ]
  },
  {
   "cell_type": "markdown",
   "metadata": {},
   "source": [
    "# Etapa 4: Teste de Modelos e Conclusão"
   ]
  },
  {
   "cell_type": "code",
   "execution_count": 274,
   "metadata": {},
   "outputs": [
    {
     "name": "stdout",
     "output_type": "stream",
     "text": [
      "              precision    recall  f1-score   support\n",
      "\n",
      "Não Aprovado       0.93      0.99      0.96      5095\n",
      "    Aprovado       0.97      0.72      0.83      1422\n",
      "\n",
      "    accuracy                           0.93      6517\n",
      "   macro avg       0.95      0.86      0.89      6517\n",
      "weighted avg       0.94      0.93      0.93      6517\n",
      "\n"
     ]
    }
   ],
   "source": [
    "# Treinar o modelo.\n",
    "gb_model.fit(X_train, y_train)\n",
    "\n",
    "# Gerar o relatório de classificação \n",
    "print(classification_report(y_test, gb_model.predict(X_test), target_names=['Não Aprovado', 'Aprovado']))"
   ]
  },
  {
   "cell_type": "markdown",
   "metadata": {},
   "source": [
    "Após avaliar vários modelos, identificamos o modelo Gradient Boosting como o mais preciso na previsão dos resultados de aprovação de empréstimos. Este modelo demonstra desempenho superior em discernir situações onde os empréstimos são prováveis de serem aprovados ou negados. Suas capacidades preditivas robustas o tornam a melhor escolha para nosso framework de decisão de empréstimos."
   ]
  },
  {
   "cell_type": "code",
   "execution_count": 275,
   "metadata": {},
   "outputs": [
    {
     "name": "stdout",
     "output_type": "stream",
     "text": [
      "              precision    recall  f1-score   support\n",
      "\n",
      "Não Aprovado       0.94      0.92      0.93      5095\n",
      "    Aprovado       0.75      0.80      0.77      1422\n",
      "\n",
      "    accuracy                           0.90      6517\n",
      "   macro avg       0.85      0.86      0.85      6517\n",
      "weighted avg       0.90      0.90      0.90      6517\n",
      "\n"
     ]
    }
   ],
   "source": [
    "# Treinar o modelo.\n",
    "gb_model.fit(X_train_us, y_train_us)\n",
    "\n",
    "# Gerar o relatório de classificação \n",
    "print(classification_report(y_test, gb_model.predict(X_test), target_names=['Não Aprovado', 'Aprovado']))"
   ]
  },
  {
   "cell_type": "markdown",
   "metadata": {},
   "source": [
    "O modelo de Gradient Boosting, treinado em conjuntos de dados undersampled, demonstrou uma eficácia superior na previsão de aprovações de empréstimos dentro do contexto de um conjunto de dados desequilibrado."
   ]
  }
 ],
 "metadata": {
  "kernelspec": {
   "display_name": "Python 3",
   "language": "python",
   "name": "python3"
  },
  "language_info": {
   "codemirror_mode": {
    "name": "ipython",
    "version": 3
   },
   "file_extension": ".py",
   "mimetype": "text/x-python",
   "name": "python",
   "nbconvert_exporter": "python",
   "pygments_lexer": "ipython3",
   "version": "3.13.1"
  }
 },
 "nbformat": 4,
 "nbformat_minor": 2
}
