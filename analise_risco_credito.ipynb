{
 "cells": [
  {
   "cell_type": "markdown",
   "metadata": {},
   "source": [
    "# Análise e Previsão de Risco de Crédito\n",
    "\n",
    "Vamos trabalhar com o 'Conjunto de Dados de Risco de Crédito' do Kaggle. Neste projeto, vamos analisar e pré-processar os dados de diversos indivíduos e construir modelos de aprendizado de máquina para determinar se os empréstimos serão concedidos ou não. Vamos testar os modelos 'Rede Neural', 'Gradient Boosting', 'Random Forest', 'XGBoost', 'SVM', 'KNN', 'Regressão Logística' e 'Naive Bayes'.\n",
    "\n",
    "Link do Conjunto de Dados: https://www.kaggle.com/datasets/laotse/credit-risk-dataset"
   ]
  },
  {
   "cell_type": "markdown",
   "metadata": {},
   "source": [
    "# Resumo\n",
    "\n",
    "### Capítulo 1: Análise Exploratória e Estatística\n",
    "- 1.1: Importando Dados e Primeira Visualização\n",
    "- 1.2: Verificando Valores Nulos\n",
    "- 1.3: Verificando Tipos de Dados\n",
    "- 1.4: Análise Final dos Dados\n",
    "- 1.5: Plotagem de Gráficos\n",
    "\n",
    "### Capítulo 2: Manipulação de Dados\n",
    "- 2.1: Valores Ausentes\n",
    "- 2.2: Tratamento de Outliers\n",
    "- 2.3: Tratamento de Tipos de Dados Incorretos\n",
    "- 2.4: Codificação One Hot\n",
    "- 2.5: Padronização\n",
    "\n",
    "### Capítulo 3: Construção e Teste de Modelos de Aprendizado de Máquina\n",
    "- 3.1: Divisão dos Dados em Conjuntos de Treinamento e Teste\n",
    "- 3.2: Regressão Logística\n",
    "- 3.3: Random Forest\n",
    "- 3.4: Gradient Boosting\n",
    "- 3.5: Máquina de Vetores de Suporte (SVM)\n",
    "- 3.6: K-Nearest Neighbors (KNN)\n",
    "- 3.7: Redes Neurais\n",
    "\n",
    "### Capítulo 4: Conclusão"
   ]
  },
  {
   "cell_type": "markdown",
   "metadata": {},
   "source": [
    "# Capítulo 1 - Análise Exploratória e Estatística\n",
    "\n",
    "Nesta seção, examinamos de perto nossos dados para entender o que eles podem nos dizer. Começamos resumindo as principais características dos dados e depois usamos gráficos e tabelas para visualizá-los de uma forma fácil de entender. Ao fazer isso, esperamos encontrar padrões ou tendências interessantes que possam nos orientar em nossa análise posterior. Este passo é crucial para conhecermos melhor nossos dados antes de nos aprofundarmos em técnicas mais avançadas."
   ]
  },
  {
   "cell_type": "code",
   "execution_count": 103,
   "metadata": {},
   "outputs": [],
   "source": [
    "# Let's start by importing the initial libraries needed to carry out our project.\n",
    "import pandas as pd\n",
    "import matplotlib.pyplot as plt\n",
    "import seaborn as sns\n",
    "# Eliminate the warnings. \n",
    "import warnings\n",
    "warnings.filterwarnings(\"ignore\")"
   ]
  },
  {
   "cell_type": "markdown",
   "metadata": {},
   "source": [
    "- person_age: Idade\n",
    "- person_income: Renda Anual\n",
    "- person_home_ownership: Propriedade da Residência\n",
    "- person_emp_length: Tempo de Emprego (em anos)\n",
    "- loan_intent: Intenção do Empréstimo\n",
    "- loan_grade: Grau do Empréstimo\n",
    "- loan_amnt: Valor do Empréstimo\n",
    "- loan_int_rate: Taxa de Juros\n",
    "- loan_status: Status do Empréstimo (0 para não inadimplente, 1 para inadimplente)\n",
    "- loan_percent_income: Percentual da Renda\n",
    "- cb_person_default_on_file: Histórico de Inadimplência do Cliente\n",
    "- cb_preson_cred_hist_length: Tempo de Histórico de Crédito do Cliente"
   ]
  },
  {
   "cell_type": "markdown",
   "metadata": {},
   "source": [
    "\"loan_status\" é nossa classe alvo.\n",
    "\n",
    "loan_status 0 = empréstimo negado.\n",
    "\n",
    "loan_status 1 = empréstimo aprovado."
   ]
  },
  {
   "cell_type": "markdown",
   "metadata": {},
   "source": [
    "### 1.1: Importando Dados e Primeira Visualização\n",
    "\n",
    "Vamos começar importando nossos dados de um arquivo '.csv' usando a biblioteca Pandas, para que possamos visualizar nossos dados e realizar uma análise inicial sobre eles."
   ]
  },
  {
   "cell_type": "code",
   "execution_count": 104,
   "metadata": {},
   "outputs": [
    {
     "data": {
      "text/html": [
       "<div>\n",
       "<style scoped>\n",
       "    .dataframe tbody tr th:only-of-type {\n",
       "        vertical-align: middle;\n",
       "    }\n",
       "\n",
       "    .dataframe tbody tr th {\n",
       "        vertical-align: top;\n",
       "    }\n",
       "\n",
       "    .dataframe thead th {\n",
       "        text-align: right;\n",
       "    }\n",
       "</style>\n",
       "<table border=\"1\" class=\"dataframe\">\n",
       "  <thead>\n",
       "    <tr style=\"text-align: right;\">\n",
       "      <th></th>\n",
       "      <th>person_income</th>\n",
       "      <th>person_home_ownership</th>\n",
       "      <th>person_emp_length</th>\n",
       "      <th>loan_intent</th>\n",
       "      <th>loan_grade</th>\n",
       "      <th>loan_amnt</th>\n",
       "      <th>loan_int_rate</th>\n",
       "      <th>loan_status</th>\n",
       "      <th>loan_percent_income</th>\n",
       "      <th>cb_person_default_on_file</th>\n",
       "      <th>cb_person_cred_hist_length</th>\n",
       "    </tr>\n",
       "    <tr>\n",
       "      <th>person_age</th>\n",
       "      <th></th>\n",
       "      <th></th>\n",
       "      <th></th>\n",
       "      <th></th>\n",
       "      <th></th>\n",
       "      <th></th>\n",
       "      <th></th>\n",
       "      <th></th>\n",
       "      <th></th>\n",
       "      <th></th>\n",
       "      <th></th>\n",
       "    </tr>\n",
       "  </thead>\n",
       "  <tbody>\n",
       "    <tr>\n",
       "      <th>22</th>\n",
       "      <td>59000</td>\n",
       "      <td>RENT</td>\n",
       "      <td>123.0</td>\n",
       "      <td>PERSONAL</td>\n",
       "      <td>D</td>\n",
       "      <td>35000</td>\n",
       "      <td>16.02</td>\n",
       "      <td>1</td>\n",
       "      <td>0.59</td>\n",
       "      <td>Y</td>\n",
       "      <td>3</td>\n",
       "    </tr>\n",
       "    <tr>\n",
       "      <th>21</th>\n",
       "      <td>9600</td>\n",
       "      <td>OWN</td>\n",
       "      <td>5.0</td>\n",
       "      <td>EDUCATION</td>\n",
       "      <td>B</td>\n",
       "      <td>1000</td>\n",
       "      <td>11.14</td>\n",
       "      <td>0</td>\n",
       "      <td>0.10</td>\n",
       "      <td>N</td>\n",
       "      <td>2</td>\n",
       "    </tr>\n",
       "    <tr>\n",
       "      <th>25</th>\n",
       "      <td>9600</td>\n",
       "      <td>MORTGAGE</td>\n",
       "      <td>1.0</td>\n",
       "      <td>MEDICAL</td>\n",
       "      <td>C</td>\n",
       "      <td>5500</td>\n",
       "      <td>12.87</td>\n",
       "      <td>1</td>\n",
       "      <td>0.57</td>\n",
       "      <td>N</td>\n",
       "      <td>3</td>\n",
       "    </tr>\n",
       "    <tr>\n",
       "      <th>23</th>\n",
       "      <td>65500</td>\n",
       "      <td>RENT</td>\n",
       "      <td>4.0</td>\n",
       "      <td>MEDICAL</td>\n",
       "      <td>C</td>\n",
       "      <td>35000</td>\n",
       "      <td>15.23</td>\n",
       "      <td>1</td>\n",
       "      <td>0.53</td>\n",
       "      <td>N</td>\n",
       "      <td>2</td>\n",
       "    </tr>\n",
       "    <tr>\n",
       "      <th>24</th>\n",
       "      <td>54400</td>\n",
       "      <td>RENT</td>\n",
       "      <td>8.0</td>\n",
       "      <td>MEDICAL</td>\n",
       "      <td>C</td>\n",
       "      <td>35000</td>\n",
       "      <td>14.27</td>\n",
       "      <td>1</td>\n",
       "      <td>0.55</td>\n",
       "      <td>Y</td>\n",
       "      <td>4</td>\n",
       "    </tr>\n",
       "    <tr>\n",
       "      <th>...</th>\n",
       "      <td>...</td>\n",
       "      <td>...</td>\n",
       "      <td>...</td>\n",
       "      <td>...</td>\n",
       "      <td>...</td>\n",
       "      <td>...</td>\n",
       "      <td>...</td>\n",
       "      <td>...</td>\n",
       "      <td>...</td>\n",
       "      <td>...</td>\n",
       "      <td>...</td>\n",
       "    </tr>\n",
       "    <tr>\n",
       "      <th>57</th>\n",
       "      <td>53000</td>\n",
       "      <td>MORTGAGE</td>\n",
       "      <td>1.0</td>\n",
       "      <td>PERSONAL</td>\n",
       "      <td>C</td>\n",
       "      <td>5800</td>\n",
       "      <td>13.16</td>\n",
       "      <td>0</td>\n",
       "      <td>0.11</td>\n",
       "      <td>N</td>\n",
       "      <td>30</td>\n",
       "    </tr>\n",
       "    <tr>\n",
       "      <th>54</th>\n",
       "      <td>120000</td>\n",
       "      <td>MORTGAGE</td>\n",
       "      <td>4.0</td>\n",
       "      <td>PERSONAL</td>\n",
       "      <td>A</td>\n",
       "      <td>17625</td>\n",
       "      <td>7.49</td>\n",
       "      <td>0</td>\n",
       "      <td>0.15</td>\n",
       "      <td>N</td>\n",
       "      <td>19</td>\n",
       "    </tr>\n",
       "    <tr>\n",
       "      <th>65</th>\n",
       "      <td>76000</td>\n",
       "      <td>RENT</td>\n",
       "      <td>3.0</td>\n",
       "      <td>HOMEIMPROVEMENT</td>\n",
       "      <td>B</td>\n",
       "      <td>35000</td>\n",
       "      <td>10.99</td>\n",
       "      <td>1</td>\n",
       "      <td>0.46</td>\n",
       "      <td>N</td>\n",
       "      <td>28</td>\n",
       "    </tr>\n",
       "    <tr>\n",
       "      <th>56</th>\n",
       "      <td>150000</td>\n",
       "      <td>MORTGAGE</td>\n",
       "      <td>5.0</td>\n",
       "      <td>PERSONAL</td>\n",
       "      <td>B</td>\n",
       "      <td>15000</td>\n",
       "      <td>11.48</td>\n",
       "      <td>0</td>\n",
       "      <td>0.10</td>\n",
       "      <td>N</td>\n",
       "      <td>26</td>\n",
       "    </tr>\n",
       "    <tr>\n",
       "      <th>66</th>\n",
       "      <td>42000</td>\n",
       "      <td>RENT</td>\n",
       "      <td>2.0</td>\n",
       "      <td>MEDICAL</td>\n",
       "      <td>B</td>\n",
       "      <td>6475</td>\n",
       "      <td>9.99</td>\n",
       "      <td>0</td>\n",
       "      <td>0.15</td>\n",
       "      <td>N</td>\n",
       "      <td>30</td>\n",
       "    </tr>\n",
       "  </tbody>\n",
       "</table>\n",
       "<p>32581 rows × 11 columns</p>\n",
       "</div>"
      ],
      "text/plain": [
       "            person_income person_home_ownership  person_emp_length  \\\n",
       "person_age                                                           \n",
       "22                  59000                  RENT              123.0   \n",
       "21                   9600                   OWN                5.0   \n",
       "25                   9600              MORTGAGE                1.0   \n",
       "23                  65500                  RENT                4.0   \n",
       "24                  54400                  RENT                8.0   \n",
       "...                   ...                   ...                ...   \n",
       "57                  53000              MORTGAGE                1.0   \n",
       "54                 120000              MORTGAGE                4.0   \n",
       "65                  76000                  RENT                3.0   \n",
       "56                 150000              MORTGAGE                5.0   \n",
       "66                  42000                  RENT                2.0   \n",
       "\n",
       "                loan_intent loan_grade  loan_amnt  loan_int_rate  loan_status  \\\n",
       "person_age                                                                      \n",
       "22                 PERSONAL          D      35000          16.02            1   \n",
       "21                EDUCATION          B       1000          11.14            0   \n",
       "25                  MEDICAL          C       5500          12.87            1   \n",
       "23                  MEDICAL          C      35000          15.23            1   \n",
       "24                  MEDICAL          C      35000          14.27            1   \n",
       "...                     ...        ...        ...            ...          ...   \n",
       "57                 PERSONAL          C       5800          13.16            0   \n",
       "54                 PERSONAL          A      17625           7.49            0   \n",
       "65          HOMEIMPROVEMENT          B      35000          10.99            1   \n",
       "56                 PERSONAL          B      15000          11.48            0   \n",
       "66                  MEDICAL          B       6475           9.99            0   \n",
       "\n",
       "            loan_percent_income cb_person_default_on_file  \\\n",
       "person_age                                                  \n",
       "22                         0.59                         Y   \n",
       "21                         0.10                         N   \n",
       "25                         0.57                         N   \n",
       "23                         0.53                         N   \n",
       "24                         0.55                         Y   \n",
       "...                         ...                       ...   \n",
       "57                         0.11                         N   \n",
       "54                         0.15                         N   \n",
       "65                         0.46                         N   \n",
       "56                         0.10                         N   \n",
       "66                         0.15                         N   \n",
       "\n",
       "            cb_person_cred_hist_length  \n",
       "person_age                              \n",
       "22                                   3  \n",
       "21                                   2  \n",
       "25                                   3  \n",
       "23                                   2  \n",
       "24                                   4  \n",
       "...                                ...  \n",
       "57                                  30  \n",
       "54                                  19  \n",
       "65                                  28  \n",
       "56                                  26  \n",
       "66                                  30  \n",
       "\n",
       "[32581 rows x 11 columns]"
      ]
     },
     "execution_count": 104,
     "metadata": {},
     "output_type": "execute_result"
    }
   ],
   "source": [
    "# Vamos começar usando a biblioteca 'Pandas' para ler o arquivo 'credit_risk_dataset.csv'.\n",
    "credit_df = pd.read_csv(\"credit_risk_dataset.csv\", index_col=0)\n",
    "\n",
    "# Vamos visualizar as primeiras 5 e últimas 5 linhas do dataframe para verificar os dados.\n",
    "credit_df"
   ]
  },
  {
   "cell_type": "code",
   "execution_count": 105,
   "metadata": {},
   "outputs": [
    {
     "data": {
      "text/html": [
       "<div>\n",
       "<style scoped>\n",
       "    .dataframe tbody tr th:only-of-type {\n",
       "        vertical-align: middle;\n",
       "    }\n",
       "\n",
       "    .dataframe tbody tr th {\n",
       "        vertical-align: top;\n",
       "    }\n",
       "\n",
       "    .dataframe thead th {\n",
       "        text-align: right;\n",
       "    }\n",
       "</style>\n",
       "<table border=\"1\" class=\"dataframe\">\n",
       "  <thead>\n",
       "    <tr style=\"text-align: right;\">\n",
       "      <th></th>\n",
       "      <th>person_income</th>\n",
       "      <th>person_emp_length</th>\n",
       "      <th>loan_amnt</th>\n",
       "      <th>loan_int_rate</th>\n",
       "      <th>loan_status</th>\n",
       "      <th>loan_percent_income</th>\n",
       "      <th>cb_person_cred_hist_length</th>\n",
       "    </tr>\n",
       "  </thead>\n",
       "  <tbody>\n",
       "    <tr>\n",
       "      <th>count</th>\n",
       "      <td>3.258100e+04</td>\n",
       "      <td>31686.000000</td>\n",
       "      <td>32581.000000</td>\n",
       "      <td>29465.000000</td>\n",
       "      <td>32581.000000</td>\n",
       "      <td>32581.000000</td>\n",
       "      <td>32581.000000</td>\n",
       "    </tr>\n",
       "    <tr>\n",
       "      <th>mean</th>\n",
       "      <td>6.607485e+04</td>\n",
       "      <td>4.789686</td>\n",
       "      <td>9589.371106</td>\n",
       "      <td>11.011695</td>\n",
       "      <td>0.218164</td>\n",
       "      <td>0.170203</td>\n",
       "      <td>5.804211</td>\n",
       "    </tr>\n",
       "    <tr>\n",
       "      <th>std</th>\n",
       "      <td>6.198312e+04</td>\n",
       "      <td>4.142630</td>\n",
       "      <td>6322.086646</td>\n",
       "      <td>3.240459</td>\n",
       "      <td>0.413006</td>\n",
       "      <td>0.106782</td>\n",
       "      <td>4.055001</td>\n",
       "    </tr>\n",
       "    <tr>\n",
       "      <th>min</th>\n",
       "      <td>4.000000e+03</td>\n",
       "      <td>0.000000</td>\n",
       "      <td>500.000000</td>\n",
       "      <td>5.420000</td>\n",
       "      <td>0.000000</td>\n",
       "      <td>0.000000</td>\n",
       "      <td>2.000000</td>\n",
       "    </tr>\n",
       "    <tr>\n",
       "      <th>25%</th>\n",
       "      <td>3.850000e+04</td>\n",
       "      <td>2.000000</td>\n",
       "      <td>5000.000000</td>\n",
       "      <td>7.900000</td>\n",
       "      <td>0.000000</td>\n",
       "      <td>0.090000</td>\n",
       "      <td>3.000000</td>\n",
       "    </tr>\n",
       "    <tr>\n",
       "      <th>50%</th>\n",
       "      <td>5.500000e+04</td>\n",
       "      <td>4.000000</td>\n",
       "      <td>8000.000000</td>\n",
       "      <td>10.990000</td>\n",
       "      <td>0.000000</td>\n",
       "      <td>0.150000</td>\n",
       "      <td>4.000000</td>\n",
       "    </tr>\n",
       "    <tr>\n",
       "      <th>75%</th>\n",
       "      <td>7.920000e+04</td>\n",
       "      <td>7.000000</td>\n",
       "      <td>12200.000000</td>\n",
       "      <td>13.470000</td>\n",
       "      <td>0.000000</td>\n",
       "      <td>0.230000</td>\n",
       "      <td>8.000000</td>\n",
       "    </tr>\n",
       "    <tr>\n",
       "      <th>max</th>\n",
       "      <td>6.000000e+06</td>\n",
       "      <td>123.000000</td>\n",
       "      <td>35000.000000</td>\n",
       "      <td>23.220000</td>\n",
       "      <td>1.000000</td>\n",
       "      <td>0.830000</td>\n",
       "      <td>30.000000</td>\n",
       "    </tr>\n",
       "  </tbody>\n",
       "</table>\n",
       "</div>"
      ],
      "text/plain": [
       "       person_income  person_emp_length     loan_amnt  loan_int_rate  \\\n",
       "count   3.258100e+04       31686.000000  32581.000000   29465.000000   \n",
       "mean    6.607485e+04           4.789686   9589.371106      11.011695   \n",
       "std     6.198312e+04           4.142630   6322.086646       3.240459   \n",
       "min     4.000000e+03           0.000000    500.000000       5.420000   \n",
       "25%     3.850000e+04           2.000000   5000.000000       7.900000   \n",
       "50%     5.500000e+04           4.000000   8000.000000      10.990000   \n",
       "75%     7.920000e+04           7.000000  12200.000000      13.470000   \n",
       "max     6.000000e+06         123.000000  35000.000000      23.220000   \n",
       "\n",
       "        loan_status  loan_percent_income  cb_person_cred_hist_length  \n",
       "count  32581.000000         32581.000000                32581.000000  \n",
       "mean       0.218164             0.170203                    5.804211  \n",
       "std        0.413006             0.106782                    4.055001  \n",
       "min        0.000000             0.000000                    2.000000  \n",
       "25%        0.000000             0.090000                    3.000000  \n",
       "50%        0.000000             0.150000                    4.000000  \n",
       "75%        0.000000             0.230000                    8.000000  \n",
       "max        1.000000             0.830000                   30.000000  "
      ]
     },
     "execution_count": 105,
     "metadata": {},
     "output_type": "execute_result"
    }
   ],
   "source": [
    "# Aqui, usaremos o método 'describe()' para verificar algumas estatísticas descritivas sobre as colunas numéricas do dataframe 'credit_df'.\n",
    "credit_df.describe() "
   ]
  },
  {
   "cell_type": "code",
   "execution_count": 106,
   "metadata": {},
   "outputs": [
    {
     "data": {
      "text/plain": [
       "array([1, 0], dtype=int64)"
      ]
     },
     "execution_count": 106,
     "metadata": {},
     "output_type": "execute_result"
    }
   ],
   "source": [
    "credit_df['loan_status'].unique()"
   ]
  },
  {
   "cell_type": "code",
   "execution_count": 107,
   "metadata": {},
   "outputs": [
    {
     "name": "stdout",
     "output_type": "stream",
     "text": [
      "Quantidade de 0s e 1s na classe 'loan_status':\n",
      "loan_status\n",
      "0    25473\n",
      "1     7108\n",
      "Name: count, dtype: int64\n"
     ]
    }
   ],
   "source": [
    "# Verificar a quantidade de 0s e 1s na coluna 'loan_status'\n",
    "loan_status_counts = credit_df['loan_status'].value_counts()\n",
    "\n",
    "# Exibir os resultados\n",
    "print(\"Quantidade de 0s e 1s na classe 'loan_status':\")\n",
    "print(loan_status_counts)"
   ]
  },
  {
   "cell_type": "markdown",
   "metadata": {},
   "source": [
    "### 1.2: Verificando Valores Nulos\n",
    "\n",
    "Vamos usar os métodos 'isnull' e 'sum' para somar os valores nulos em cada coluna."
   ]
  },
  {
   "cell_type": "code",
   "execution_count": 108,
   "metadata": {},
   "outputs": [
    {
     "data": {
      "text/plain": [
       "person_income                    0\n",
       "person_home_ownership            0\n",
       "person_emp_length              895\n",
       "loan_intent                      0\n",
       "loan_grade                       0\n",
       "loan_amnt                        0\n",
       "loan_int_rate                 3116\n",
       "loan_status                      0\n",
       "loan_percent_income              0\n",
       "cb_person_default_on_file        0\n",
       "cb_person_cred_hist_length       0\n",
       "dtype: int64"
      ]
     },
     "execution_count": 108,
     "metadata": {},
     "output_type": "execute_result"
    }
   ],
   "source": [
    "credit_df.isnull().sum()"
   ]
  },
  {
   "cell_type": "markdown",
   "metadata": {},
   "source": [
    "\"person_emp_length\" e \"loan_int_rate\" são as colunas que possuem valores nulos em nosso conjunto de dados."
   ]
  },
  {
   "cell_type": "markdown",
   "metadata": {},
   "source": [
    "### 1.3: Verificando Tipos de Dados\n",
    "\n",
    "Vamos usar o atributo 'dtypes' do dataframe 'credit_df' para verificar os tipos de dados de cada coluna."
   ]
  },
  {
   "cell_type": "code",
   "execution_count": 109,
   "metadata": {},
   "outputs": [
    {
     "data": {
      "text/plain": [
       "person_income                   int64\n",
       "person_home_ownership          object\n",
       "person_emp_length             float64\n",
       "loan_intent                    object\n",
       "loan_grade                     object\n",
       "loan_amnt                       int64\n",
       "loan_int_rate                 float64\n",
       "loan_status                     int64\n",
       "loan_percent_income           float64\n",
       "cb_person_default_on_file      object\n",
       "cb_person_cred_hist_length      int64\n",
       "dtype: object"
      ]
     },
     "execution_count": 109,
     "metadata": {},
     "output_type": "execute_result"
    }
   ],
   "source": [
    "credit_df.dtypes"
   ]
  },
  {
   "cell_type": "markdown",
   "metadata": {},
   "source": [
    "Vamos verificar se os dados únicos estão corretos na coluna 'cb_person_default_on_file'."
   ]
  },
  {
   "cell_type": "code",
   "execution_count": 110,
   "metadata": {},
   "outputs": [
    {
     "data": {
      "text/plain": [
       "array(['Y', 'N'], dtype=object)"
      ]
     },
     "execution_count": 110,
     "metadata": {},
     "output_type": "execute_result"
    }
   ],
   "source": [
    "credit_df['cb_person_default_on_file'].unique()"
   ]
  },
  {
   "cell_type": "markdown",
   "metadata": {},
   "source": [
    "A coluna 'cb_person_default_on_file' tem apenas dois tipos de entradas: 'Y' para 'Sim' e 'N' para 'Não'.\n",
    "\n",
    "Vamos transformá-la ainda mais para o formato 'Booleano' para adequá-la melhor aos modelos de aprendizado de máquina."
   ]
  },
  {
   "cell_type": "markdown",
   "metadata": {},
   "source": [
    "### 1.4: Análise Final dos Dados"
   ]
  },
  {
   "cell_type": "code",
   "execution_count": 111,
   "metadata": {},
   "outputs": [
    {
     "data": {
      "text/plain": [
       "array(['RENT', 'OWN', 'MORTGAGE', 'OTHER'], dtype=object)"
      ]
     },
     "execution_count": 111,
     "metadata": {},
     "output_type": "execute_result"
    }
   ],
   "source": [
    "# Verificar os valores únicos em person_home_ownership.\n",
    "credit_df['person_home_ownership'].unique()"
   ]
  },
  {
   "cell_type": "code",
   "execution_count": 112,
   "metadata": {},
   "outputs": [
    {
     "data": {
      "text/plain": [
       "array(['PERSONAL', 'EDUCATION', 'MEDICAL', 'VENTURE', 'HOMEIMPROVEMENT',\n",
       "       'DEBTCONSOLIDATION'], dtype=object)"
      ]
     },
     "execution_count": 112,
     "metadata": {},
     "output_type": "execute_result"
    }
   ],
   "source": [
    "# Verificar os valores únicos em loan_intent.\n",
    "credit_df['loan_intent'].unique()"
   ]
  },
  {
   "cell_type": "code",
   "execution_count": 113,
   "metadata": {},
   "outputs": [
    {
     "data": {
      "text/plain": [
       "array(['D', 'B', 'C', 'A', 'E', 'F', 'G'], dtype=object)"
      ]
     },
     "execution_count": 113,
     "metadata": {},
     "output_type": "execute_result"
    }
   ],
   "source": [
    "# Verificar os valores únicos em loan_grade.\n",
    "credit_df['loan_grade'].unique()"
   ]
  },
  {
   "cell_type": "markdown",
   "metadata": {},
   "source": [
    "### 1.5: Plotagem de Gráficos"
   ]
  },
  {
   "cell_type": "code",
   "execution_count": 114,
   "metadata": {},
   "outputs": [
    {
     "data": {
      "image/png": "[encoded data removed]",
      "text/plain": [
       "<Figure size 1000x600 with 1 Axes>"
      ]
     },
     "metadata": {},
     "output_type": "display_data"
    }
   ],
   "source": [
    "# Definindo uma paleta de cores usando a função color_palette() do seaborn\n",
    "colors = sns.color_palette(\"RdBu\", n_colors=2)\n",
    "\n",
    "# Criando o histograma\n",
    "plt.figure(figsize=(10, 6))\n",
    "n, bins, _ = plt.hist(credit_df['person_emp_length'].dropna(), bins=30, edgecolor='black', color=colors[0])  # Usando a primeira cor da paleta\n",
    "\n",
    "# Adicionando números específicos sobre as barras\n",
    "for count, value in zip(n, bins[:-1]):\n",
    "    if count > 0:\n",
    "        plt.text(value + (bins[1] - bins[0]) / 2, count, str(int(count)), ha='center', va='bottom')\n",
    "\n",
    "# Definindo o título e rótulos dos eixos\n",
    "plt.title('Histograma do Tempo de Emprego')\n",
    "plt.xlabel('Tempo de Emprego (em anos)')\n",
    "plt.ylabel('Frequência')\n",
    "\n",
    "# # Salvar o gráfico como um arquivo de imagem (por exemplo, PNG)\n",
    "# plt.savefig('tempo_emprego_plot.png', bbox_inches='tight')\n",
    "\n",
    "# Exibindo o histograma\n",
    "plt.show()"
   ]
  },
  {
   "cell_type": "markdown",
   "metadata": {},
   "source": [
    "Foi detectado um valor atípico acima de 120 e iremos lidar com ele no próximo passo."
   ]
  },
  {
   "cell_type": "code",
   "execution_count": 115,
   "metadata": {},
   "outputs": [
    {
     "data": {
      "image/png": "[encoded data removed]",
      "text/plain": [
       "<Figure size 640x480 with 1 Axes>"
      ]
     },
     "metadata": {},
     "output_type": "display_data"
    }
   ],
   "source": [
    "# Contagem de entradas com valor 0 e 1\n",
    "count_0 = credit_df['loan_status'].value_counts()[0]\n",
    "count_1 = credit_df['loan_status'].value_counts()[1]\n",
    "\n",
    "# # Definindo cores\n",
    "# colors = ['tomato', 'steelblue']\n",
    "\n",
    "# Criando o gráfico de barras com cores\n",
    "plt.bar(['Não Aprovado(0)', 'Aprovado(1)'], [count_0, count_1], color=colors)\n",
    "\n",
    "# Adicionando rótulos e título\n",
    "plt.xlabel('Status do Empréstimo')\n",
    "plt.ylabel('Contagem')\n",
    "plt.title('Comparação do Status do Empréstimo')\n",
    "\n",
    "# Adicionando contagens acima das barras\n",
    "for i, count in enumerate([count_0, count_1]):\n",
    "    plt.text(i, count, str(count), ha='center', va='bottom')\n",
    "\n",
    "# # Salvar o gráfico como um arquivo de imagem (por exemplo, PNG)\n",
    "# plt.savefig('status_emprestimo_plot.png', bbox_inches='tight')\n",
    "\n",
    "# Exibindo o gráfico\n",
    "plt.show()"
   ]
  },
  {
   "cell_type": "code",
   "execution_count": 116,
   "metadata": {},
   "outputs": [
    {
     "data": {
      "image/png": "[encoded data removed]",
      "text/plain": [
       "<Figure size 640x480 with 1 Axes>"
      ]
     },
     "metadata": {},
     "output_type": "display_data"
    }
   ],
   "source": [
    "# Calculando a porcentagem de entradas com valor 0 e 1\n",
    "percentage_0 = (credit_df['loan_status'].value_counts()[0] / len(credit_df)) * 100\n",
    "percentage_1 = (credit_df['loan_status'].value_counts()[1] / len(credit_df)) * 100\n",
    "\n",
    "# Criando o gráfico de pizza\n",
    "labels = ['Não Aprovado(0)', 'Aprovado(1)']\n",
    "sizes = [percentage_0, percentage_1]\n",
    "plt.pie(sizes, labels=labels, autopct='%1.1f%%', startangle=70, colors=colors)\n",
    "\n",
    "# Adicionando um título\n",
    "plt.title('Distribuição do Status do Empréstimo')\n",
    "\n",
    "# Exibindo o gráfico\n",
    "plt.axis('equal')  # A proporção igual garante que a pizza seja desenhada como um círculo.\n",
    "\n",
    "# # Salvar o gráfico como um arquivo de imagem (por exemplo, PNG)\n",
    "# plt.savefig('emprestimo_distribuicao_plot.png', bbox_inches='tight')\n",
    "\n",
    "plt.show()"
   ]
  },
  {
   "cell_type": "markdown",
   "metadata": {},
   "source": [
    "# Capítulo 2: Manipulação de Dados\n",
    "\n",
    "Nesta seção, arregaçamos as mangas e preparamos nossos dados para análise. Limpeza, transformação e remodelação dos dados brutos em um formato adequado para nossas necessidades. Isso envolve lidar com valores ausentes, remover duplicatas e padronizar formatos. Nosso objetivo nesta fase é garantir que nossos dados sejam confiáveis e consistentes, estabelecendo uma base sólida para nossos futuros modelos de ML. Ao processar os dados de forma eficaz, podemos maximizar a precisão e relevância de nossas percepções, capacitando-nos a tomar decisões informadas com base em informações confiáveis."
   ]
  },
  {
   "cell_type": "markdown",
   "metadata": {},
   "source": [
    "### 2.1: Valores Ausentes\n",
    "\n",
    "Primeiro, vamos lidar com os valores nulos que encontramos em nosso dataframe no passo anterior."
   ]
  },
  {
   "cell_type": "code",
   "execution_count": 117,
   "metadata": {},
   "outputs": [],
   "source": [
    "# Criar uma função para substituir valores nulos pelo valor médio de uma coluna específica.\n",
    "def replace_nan_with_median(dataframe, column_name):\n",
    "    median_value = dataframe[column_name].median()\n",
    "    dataframe[column_name].fillna(median_value, inplace=True)"
   ]
  },
  {
   "cell_type": "code",
   "execution_count": 118,
   "metadata": {},
   "outputs": [
    {
     "data": {
      "text/plain": [
       "person_income                    0\n",
       "person_home_ownership            0\n",
       "person_emp_length                0\n",
       "loan_intent                      0\n",
       "loan_grade                       0\n",
       "loan_amnt                        0\n",
       "loan_int_rate                 3116\n",
       "loan_status                      0\n",
       "loan_percent_income              0\n",
       "cb_person_default_on_file        0\n",
       "cb_person_cred_hist_length       0\n",
       "dtype: int64"
      ]
     },
     "execution_count": 118,
     "metadata": {},
     "output_type": "execute_result"
    }
   ],
   "source": [
    "# Usando a função para substituir os valores nulos em 'person_emp_length'.\n",
    "replace_nan_with_median(credit_df, 'person_emp_length')\n",
    " \n",
    "# Verificar se as substituições foram bem-sucedidas:\n",
    "credit_df.isnull().sum()"
   ]
  },
  {
   "cell_type": "code",
   "execution_count": 119,
   "metadata": {},
   "outputs": [
    {
     "data": {
      "text/plain": [
       "person_income                 0\n",
       "person_home_ownership         0\n",
       "person_emp_length             0\n",
       "loan_intent                   0\n",
       "loan_grade                    0\n",
       "loan_amnt                     0\n",
       "loan_int_rate                 0\n",
       "loan_status                   0\n",
       "loan_percent_income           0\n",
       "cb_person_default_on_file     0\n",
       "cb_person_cred_hist_length    0\n",
       "dtype: int64"
      ]
     },
     "execution_count": 119,
     "metadata": {},
     "output_type": "execute_result"
    }
   ],
   "source": [
    "# Usando a função para substituir os valores em branco em 'loan_int_rate'.\n",
    "replace_nan_with_median(credit_df, 'loan_int_rate')\n",
    "\n",
    "# Verificar se ainda existem valores em branco:\n",
    "credit_df.isnull().sum()"
   ]
  },
  {
   "cell_type": "markdown",
   "metadata": {},
   "source": [
    "### 2.2: Tratamento de Outliers\n",
    "\n",
    "Como é impossível para um ser humano estar empregado por mais de 120 anos, decidimos remover o valor atípico que encontramos no passo anterior"
   ]
  },
  {
   "cell_type": "code",
   "execution_count": 120,
   "metadata": {},
   "outputs": [],
   "source": [
    "def remove_values_above_max(dataframe, column_name, max_value):\n",
    "    dataframe.drop(dataframe[dataframe[column_name] > max_value].index, inplace=True)"
   ]
  },
  {
   "cell_type": "code",
   "execution_count": 121,
   "metadata": {},
   "outputs": [
    {
     "data": {
      "text/plain": [
       "41.0"
      ]
     },
     "execution_count": 121,
     "metadata": {},
     "output_type": "execute_result"
    }
   ],
   "source": [
    "# Usando a função para substituir valores maiores que 120 em 'person_emp_length'.\n",
    "remove_values_above_max(credit_df, 'person_emp_length', 120)\n",
    "\n",
    "# Verificar se os valores foram removidos corretamente\n",
    "# Aqui vamos verificar o valor máximo desta coluna.\n",
    "credit_df['person_emp_length'].max()"
   ]
  },
  {
   "cell_type": "markdown",
   "metadata": {},
   "source": [
    "### 2.3: Tratamento de Tipos de Dados Incorretos\n",
    "\n",
    "Agora vamos lidar com os tipos de dados incorretos em nosso dataframe."
   ]
  },
  {
   "cell_type": "code",
   "execution_count": 122,
   "metadata": {},
   "outputs": [],
   "source": [
    "def transform_values(dataframe, column_name, value_mapping):\n",
    "    dataframe[column_name] = dataframe[column_name].map(value_mapping)"
   ]
  },
  {
   "cell_type": "code",
   "execution_count": 123,
   "metadata": {},
   "outputs": [
    {
     "data": {
      "text/plain": [
       "array([False,  True])"
      ]
     },
     "execution_count": 123,
     "metadata": {},
     "output_type": "execute_result"
    }
   ],
   "source": [
    "# Usando a função para transformar 'Y' em True e 'N' em False em 'cb_person_default_on_file'.\n",
    "transform_values(credit_df, 'cb_person_default_on_file', {'Y': True, 'N': False})\n",
    "\n",
    "# Verificando se a transformação foi aplicada corretamente.\n",
    "credit_df['cb_person_default_on_file'].unique()"
   ]
  },
  {
   "cell_type": "markdown",
   "metadata": {},
   "source": [
    "O código avalia se cada valor da coluna é igual a 'Y'. O resultado será True ou False."
   ]
  },
  {
   "cell_type": "code",
   "execution_count": 124,
   "metadata": {},
   "outputs": [
    {
     "data": {
      "text/html": [
       "<div>\n",
       "<style scoped>\n",
       "    .dataframe tbody tr th:only-of-type {\n",
       "        vertical-align: middle;\n",
       "    }\n",
       "\n",
       "    .dataframe tbody tr th {\n",
       "        vertical-align: top;\n",
       "    }\n",
       "\n",
       "    .dataframe thead th {\n",
       "        text-align: right;\n",
       "    }\n",
       "</style>\n",
       "<table border=\"1\" class=\"dataframe\">\n",
       "  <thead>\n",
       "    <tr style=\"text-align: right;\">\n",
       "      <th></th>\n",
       "      <th>person_income</th>\n",
       "      <th>person_home_ownership</th>\n",
       "      <th>person_emp_length</th>\n",
       "      <th>loan_intent</th>\n",
       "      <th>loan_grade</th>\n",
       "      <th>loan_amnt</th>\n",
       "      <th>loan_int_rate</th>\n",
       "      <th>loan_status</th>\n",
       "      <th>loan_percent_income</th>\n",
       "      <th>cb_person_default_on_file</th>\n",
       "      <th>cb_person_cred_hist_length</th>\n",
       "    </tr>\n",
       "    <tr>\n",
       "      <th>person_age</th>\n",
       "      <th></th>\n",
       "      <th></th>\n",
       "      <th></th>\n",
       "      <th></th>\n",
       "      <th></th>\n",
       "      <th></th>\n",
       "      <th></th>\n",
       "      <th></th>\n",
       "      <th></th>\n",
       "      <th></th>\n",
       "      <th></th>\n",
       "    </tr>\n",
       "  </thead>\n",
       "  <tbody>\n",
       "    <tr>\n",
       "      <th>25</th>\n",
       "      <td>9600</td>\n",
       "      <td>MORTGAGE</td>\n",
       "      <td>1.0</td>\n",
       "      <td>MEDICAL</td>\n",
       "      <td>C</td>\n",
       "      <td>5500</td>\n",
       "      <td>12.87</td>\n",
       "      <td>1</td>\n",
       "      <td>0.57</td>\n",
       "      <td>False</td>\n",
       "      <td>3</td>\n",
       "    </tr>\n",
       "    <tr>\n",
       "      <th>23</th>\n",
       "      <td>65500</td>\n",
       "      <td>RENT</td>\n",
       "      <td>4.0</td>\n",
       "      <td>MEDICAL</td>\n",
       "      <td>C</td>\n",
       "      <td>35000</td>\n",
       "      <td>15.23</td>\n",
       "      <td>1</td>\n",
       "      <td>0.53</td>\n",
       "      <td>False</td>\n",
       "      <td>2</td>\n",
       "    </tr>\n",
       "    <tr>\n",
       "      <th>24</th>\n",
       "      <td>54400</td>\n",
       "      <td>RENT</td>\n",
       "      <td>8.0</td>\n",
       "      <td>MEDICAL</td>\n",
       "      <td>C</td>\n",
       "      <td>35000</td>\n",
       "      <td>14.27</td>\n",
       "      <td>1</td>\n",
       "      <td>0.55</td>\n",
       "      <td>True</td>\n",
       "      <td>4</td>\n",
       "    </tr>\n",
       "    <tr>\n",
       "      <th>26</th>\n",
       "      <td>77100</td>\n",
       "      <td>RENT</td>\n",
       "      <td>8.0</td>\n",
       "      <td>EDUCATION</td>\n",
       "      <td>B</td>\n",
       "      <td>35000</td>\n",
       "      <td>12.42</td>\n",
       "      <td>1</td>\n",
       "      <td>0.45</td>\n",
       "      <td>False</td>\n",
       "      <td>3</td>\n",
       "    </tr>\n",
       "    <tr>\n",
       "      <th>24</th>\n",
       "      <td>78956</td>\n",
       "      <td>RENT</td>\n",
       "      <td>5.0</td>\n",
       "      <td>MEDICAL</td>\n",
       "      <td>B</td>\n",
       "      <td>35000</td>\n",
       "      <td>11.11</td>\n",
       "      <td>1</td>\n",
       "      <td>0.44</td>\n",
       "      <td>False</td>\n",
       "      <td>4</td>\n",
       "    </tr>\n",
       "  </tbody>\n",
       "</table>\n",
       "</div>"
      ],
      "text/plain": [
       "            person_income person_home_ownership  person_emp_length  \\\n",
       "person_age                                                           \n",
       "25                   9600              MORTGAGE                1.0   \n",
       "23                  65500                  RENT                4.0   \n",
       "24                  54400                  RENT                8.0   \n",
       "26                  77100                  RENT                8.0   \n",
       "24                  78956                  RENT                5.0   \n",
       "\n",
       "           loan_intent loan_grade  loan_amnt  loan_int_rate  loan_status  \\\n",
       "person_age                                                                 \n",
       "25             MEDICAL          C       5500          12.87            1   \n",
       "23             MEDICAL          C      35000          15.23            1   \n",
       "24             MEDICAL          C      35000          14.27            1   \n",
       "26           EDUCATION          B      35000          12.42            1   \n",
       "24             MEDICAL          B      35000          11.11            1   \n",
       "\n",
       "            loan_percent_income  cb_person_default_on_file  \\\n",
       "person_age                                                   \n",
       "25                         0.57                      False   \n",
       "23                         0.53                      False   \n",
       "24                         0.55                       True   \n",
       "26                         0.45                      False   \n",
       "24                         0.44                      False   \n",
       "\n",
       "            cb_person_cred_hist_length  \n",
       "person_age                              \n",
       "25                                   3  \n",
       "23                                   2  \n",
       "24                                   4  \n",
       "26                                   3  \n",
       "24                                   4  "
      ]
     },
     "execution_count": 124,
     "metadata": {},
     "output_type": "execute_result"
    }
   ],
   "source": [
    "# Mais uma vez, vamos verificar como as primeiras linhas do dataframe ficam após as mudanças.\n",
    "credit_df.head()"
   ]
  },
  {
   "cell_type": "code",
   "execution_count": 125,
   "metadata": {},
   "outputs": [
    {
     "data": {
      "text/plain": [
       "person_income                   int64\n",
       "person_home_ownership          object\n",
       "person_emp_length             float64\n",
       "loan_intent                    object\n",
       "loan_grade                     object\n",
       "loan_amnt                       int64\n",
       "loan_int_rate                 float64\n",
       "loan_status                     int64\n",
       "loan_percent_income           float64\n",
       "cb_person_default_on_file        bool\n",
       "cb_person_cred_hist_length      int64\n",
       "dtype: object"
      ]
     },
     "execution_count": 125,
     "metadata": {},
     "output_type": "execute_result"
    }
   ],
   "source": [
    "# Vamos verificar se o tipo de dado em 'cb_person_default_on_file' mudou para booleano.\n",
    "credit_df.dtypes"
   ]
  },
  {
   "cell_type": "markdown",
   "metadata": {},
   "source": [
    "### 2.4: Codificação One Hot\n",
    "\n",
    "Aplicando a codificação One Hot nas colunas do tipo 'object'."
   ]
  },
  {
   "cell_type": "code",
   "execution_count": 126,
   "metadata": {},
   "outputs": [
    {
     "data": {
      "text/html": [
       "<div>\n",
       "<style scoped>\n",
       "    .dataframe tbody tr th:only-of-type {\n",
       "        vertical-align: middle;\n",
       "    }\n",
       "\n",
       "    .dataframe tbody tr th {\n",
       "        vertical-align: top;\n",
       "    }\n",
       "\n",
       "    .dataframe thead th {\n",
       "        text-align: right;\n",
       "    }\n",
       "</style>\n",
       "<table border=\"1\" class=\"dataframe\">\n",
       "  <thead>\n",
       "    <tr style=\"text-align: right;\">\n",
       "      <th></th>\n",
       "      <th>person_income</th>\n",
       "      <th>person_emp_length</th>\n",
       "      <th>loan_amnt</th>\n",
       "      <th>loan_int_rate</th>\n",
       "      <th>loan_status</th>\n",
       "      <th>loan_percent_income</th>\n",
       "      <th>cb_person_default_on_file</th>\n",
       "      <th>cb_person_cred_hist_length</th>\n",
       "      <th>person_home_ownership_MORTGAGE</th>\n",
       "      <th>person_home_ownership_OTHER</th>\n",
       "      <th>...</th>\n",
       "      <th>loan_intent_MEDICAL</th>\n",
       "      <th>loan_intent_PERSONAL</th>\n",
       "      <th>loan_intent_VENTURE</th>\n",
       "      <th>loan_grade_A</th>\n",
       "      <th>loan_grade_B</th>\n",
       "      <th>loan_grade_C</th>\n",
       "      <th>loan_grade_D</th>\n",
       "      <th>loan_grade_E</th>\n",
       "      <th>loan_grade_F</th>\n",
       "      <th>loan_grade_G</th>\n",
       "    </tr>\n",
       "    <tr>\n",
       "      <th>person_age</th>\n",
       "      <th></th>\n",
       "      <th></th>\n",
       "      <th></th>\n",
       "      <th></th>\n",
       "      <th></th>\n",
       "      <th></th>\n",
       "      <th></th>\n",
       "      <th></th>\n",
       "      <th></th>\n",
       "      <th></th>\n",
       "      <th></th>\n",
       "      <th></th>\n",
       "      <th></th>\n",
       "      <th></th>\n",
       "      <th></th>\n",
       "      <th></th>\n",
       "      <th></th>\n",
       "      <th></th>\n",
       "      <th></th>\n",
       "      <th></th>\n",
       "      <th></th>\n",
       "    </tr>\n",
       "  </thead>\n",
       "  <tbody>\n",
       "    <tr>\n",
       "      <th>25</th>\n",
       "      <td>9600</td>\n",
       "      <td>1.0</td>\n",
       "      <td>5500</td>\n",
       "      <td>12.87</td>\n",
       "      <td>1</td>\n",
       "      <td>0.57</td>\n",
       "      <td>False</td>\n",
       "      <td>3</td>\n",
       "      <td>True</td>\n",
       "      <td>False</td>\n",
       "      <td>...</td>\n",
       "      <td>True</td>\n",
       "      <td>False</td>\n",
       "      <td>False</td>\n",
       "      <td>False</td>\n",
       "      <td>False</td>\n",
       "      <td>True</td>\n",
       "      <td>False</td>\n",
       "      <td>False</td>\n",
       "      <td>False</td>\n",
       "      <td>False</td>\n",
       "    </tr>\n",
       "    <tr>\n",
       "      <th>23</th>\n",
       "      <td>65500</td>\n",
       "      <td>4.0</td>\n",
       "      <td>35000</td>\n",
       "      <td>15.23</td>\n",
       "      <td>1</td>\n",
       "      <td>0.53</td>\n",
       "      <td>False</td>\n",
       "      <td>2</td>\n",
       "      <td>False</td>\n",
       "      <td>False</td>\n",
       "      <td>...</td>\n",
       "      <td>True</td>\n",
       "      <td>False</td>\n",
       "      <td>False</td>\n",
       "      <td>False</td>\n",
       "      <td>False</td>\n",
       "      <td>True</td>\n",
       "      <td>False</td>\n",
       "      <td>False</td>\n",
       "      <td>False</td>\n",
       "      <td>False</td>\n",
       "    </tr>\n",
       "    <tr>\n",
       "      <th>24</th>\n",
       "      <td>54400</td>\n",
       "      <td>8.0</td>\n",
       "      <td>35000</td>\n",
       "      <td>14.27</td>\n",
       "      <td>1</td>\n",
       "      <td>0.55</td>\n",
       "      <td>True</td>\n",
       "      <td>4</td>\n",
       "      <td>False</td>\n",
       "      <td>False</td>\n",
       "      <td>...</td>\n",
       "      <td>True</td>\n",
       "      <td>False</td>\n",
       "      <td>False</td>\n",
       "      <td>False</td>\n",
       "      <td>False</td>\n",
       "      <td>True</td>\n",
       "      <td>False</td>\n",
       "      <td>False</td>\n",
       "      <td>False</td>\n",
       "      <td>False</td>\n",
       "    </tr>\n",
       "    <tr>\n",
       "      <th>26</th>\n",
       "      <td>77100</td>\n",
       "      <td>8.0</td>\n",
       "      <td>35000</td>\n",
       "      <td>12.42</td>\n",
       "      <td>1</td>\n",
       "      <td>0.45</td>\n",
       "      <td>False</td>\n",
       "      <td>3</td>\n",
       "      <td>False</td>\n",
       "      <td>False</td>\n",
       "      <td>...</td>\n",
       "      <td>False</td>\n",
       "      <td>False</td>\n",
       "      <td>False</td>\n",
       "      <td>False</td>\n",
       "      <td>True</td>\n",
       "      <td>False</td>\n",
       "      <td>False</td>\n",
       "      <td>False</td>\n",
       "      <td>False</td>\n",
       "      <td>False</td>\n",
       "    </tr>\n",
       "    <tr>\n",
       "      <th>24</th>\n",
       "      <td>78956</td>\n",
       "      <td>5.0</td>\n",
       "      <td>35000</td>\n",
       "      <td>11.11</td>\n",
       "      <td>1</td>\n",
       "      <td>0.44</td>\n",
       "      <td>False</td>\n",
       "      <td>4</td>\n",
       "      <td>False</td>\n",
       "      <td>False</td>\n",
       "      <td>...</td>\n",
       "      <td>True</td>\n",
       "      <td>False</td>\n",
       "      <td>False</td>\n",
       "      <td>False</td>\n",
       "      <td>True</td>\n",
       "      <td>False</td>\n",
       "      <td>False</td>\n",
       "      <td>False</td>\n",
       "      <td>False</td>\n",
       "      <td>False</td>\n",
       "    </tr>\n",
       "  </tbody>\n",
       "</table>\n",
       "<p>5 rows × 25 columns</p>\n",
       "</div>"
      ],
      "text/plain": [
       "            person_income  person_emp_length  loan_amnt  loan_int_rate  \\\n",
       "person_age                                                               \n",
       "25                   9600                1.0       5500          12.87   \n",
       "23                  65500                4.0      35000          15.23   \n",
       "24                  54400                8.0      35000          14.27   \n",
       "26                  77100                8.0      35000          12.42   \n",
       "24                  78956                5.0      35000          11.11   \n",
       "\n",
       "            loan_status  loan_percent_income  cb_person_default_on_file  \\\n",
       "person_age                                                                \n",
       "25                    1                 0.57                      False   \n",
       "23                    1                 0.53                      False   \n",
       "24                    1                 0.55                       True   \n",
       "26                    1                 0.45                      False   \n",
       "24                    1                 0.44                      False   \n",
       "\n",
       "            cb_person_cred_hist_length  person_home_ownership_MORTGAGE  \\\n",
       "person_age                                                               \n",
       "25                                   3                            True   \n",
       "23                                   2                           False   \n",
       "24                                   4                           False   \n",
       "26                                   3                           False   \n",
       "24                                   4                           False   \n",
       "\n",
       "            person_home_ownership_OTHER  ...  loan_intent_MEDICAL  \\\n",
       "person_age                               ...                        \n",
       "25                                False  ...                 True   \n",
       "23                                False  ...                 True   \n",
       "24                                False  ...                 True   \n",
       "26                                False  ...                False   \n",
       "24                                False  ...                 True   \n",
       "\n",
       "            loan_intent_PERSONAL  loan_intent_VENTURE  loan_grade_A  \\\n",
       "person_age                                                            \n",
       "25                         False                False         False   \n",
       "23                         False                False         False   \n",
       "24                         False                False         False   \n",
       "26                         False                False         False   \n",
       "24                         False                False         False   \n",
       "\n",
       "            loan_grade_B  loan_grade_C  loan_grade_D  loan_grade_E  \\\n",
       "person_age                                                           \n",
       "25                 False          True         False         False   \n",
       "23                 False          True         False         False   \n",
       "24                 False          True         False         False   \n",
       "26                  True         False         False         False   \n",
       "24                  True         False         False         False   \n",
       "\n",
       "            loan_grade_F  loan_grade_G  \n",
       "person_age                              \n",
       "25                 False         False  \n",
       "23                 False         False  \n",
       "24                 False         False  \n",
       "26                 False         False  \n",
       "24                 False         False  \n",
       "\n",
       "[5 rows x 25 columns]"
      ]
     },
     "execution_count": 126,
     "metadata": {},
     "output_type": "execute_result"
    }
   ],
   "source": [
    "# Selecionando colunas categóricas para aplicar codificação one-hot.\n",
    "columns_to_encode = ['person_home_ownership', 'loan_intent', 'loan_grade']\n",
    "\n",
    "# Aplicando codificação one-hot\n",
    "credit_df = pd.get_dummies(credit_df, columns=columns_to_encode)\n",
    "credit_df.head()"
   ]
  },
  {
   "cell_type": "code",
   "execution_count": 127,
   "metadata": {},
   "outputs": [
    {
     "data": {
      "text/html": [
       "<div>\n",
       "<style scoped>\n",
       "    .dataframe tbody tr th:only-of-type {\n",
       "        vertical-align: middle;\n",
       "    }\n",
       "\n",
       "    .dataframe tbody tr th {\n",
       "        vertical-align: top;\n",
       "    }\n",
       "\n",
       "    .dataframe thead th {\n",
       "        text-align: right;\n",
       "    }\n",
       "</style>\n",
       "<table border=\"1\" class=\"dataframe\">\n",
       "  <thead>\n",
       "    <tr style=\"text-align: right;\">\n",
       "      <th></th>\n",
       "      <th>person_income</th>\n",
       "      <th>person_emp_length</th>\n",
       "      <th>loan_amnt</th>\n",
       "      <th>loan_int_rate</th>\n",
       "      <th>loan_status</th>\n",
       "      <th>loan_percent_income</th>\n",
       "      <th>cb_person_default_on_file</th>\n",
       "      <th>cb_person_cred_hist_length</th>\n",
       "      <th>person_home_ownership_MORTGAGE</th>\n",
       "      <th>person_home_ownership_OTHER</th>\n",
       "      <th>...</th>\n",
       "      <th>loan_intent_MEDICAL</th>\n",
       "      <th>loan_intent_PERSONAL</th>\n",
       "      <th>loan_intent_VENTURE</th>\n",
       "      <th>loan_grade_A</th>\n",
       "      <th>loan_grade_B</th>\n",
       "      <th>loan_grade_C</th>\n",
       "      <th>loan_grade_D</th>\n",
       "      <th>loan_grade_E</th>\n",
       "      <th>loan_grade_F</th>\n",
       "      <th>loan_grade_G</th>\n",
       "    </tr>\n",
       "    <tr>\n",
       "      <th>person_age</th>\n",
       "      <th></th>\n",
       "      <th></th>\n",
       "      <th></th>\n",
       "      <th></th>\n",
       "      <th></th>\n",
       "      <th></th>\n",
       "      <th></th>\n",
       "      <th></th>\n",
       "      <th></th>\n",
       "      <th></th>\n",
       "      <th></th>\n",
       "      <th></th>\n",
       "      <th></th>\n",
       "      <th></th>\n",
       "      <th></th>\n",
       "      <th></th>\n",
       "      <th></th>\n",
       "      <th></th>\n",
       "      <th></th>\n",
       "      <th></th>\n",
       "      <th></th>\n",
       "    </tr>\n",
       "  </thead>\n",
       "  <tbody>\n",
       "    <tr>\n",
       "      <th>25</th>\n",
       "      <td>9600</td>\n",
       "      <td>1.0</td>\n",
       "      <td>5500</td>\n",
       "      <td>12.87</td>\n",
       "      <td>1</td>\n",
       "      <td>0.57</td>\n",
       "      <td>False</td>\n",
       "      <td>3</td>\n",
       "      <td>True</td>\n",
       "      <td>False</td>\n",
       "      <td>...</td>\n",
       "      <td>True</td>\n",
       "      <td>False</td>\n",
       "      <td>False</td>\n",
       "      <td>False</td>\n",
       "      <td>False</td>\n",
       "      <td>True</td>\n",
       "      <td>False</td>\n",
       "      <td>False</td>\n",
       "      <td>False</td>\n",
       "      <td>False</td>\n",
       "    </tr>\n",
       "    <tr>\n",
       "      <th>23</th>\n",
       "      <td>65500</td>\n",
       "      <td>4.0</td>\n",
       "      <td>35000</td>\n",
       "      <td>15.23</td>\n",
       "      <td>1</td>\n",
       "      <td>0.53</td>\n",
       "      <td>False</td>\n",
       "      <td>2</td>\n",
       "      <td>False</td>\n",
       "      <td>False</td>\n",
       "      <td>...</td>\n",
       "      <td>True</td>\n",
       "      <td>False</td>\n",
       "      <td>False</td>\n",
       "      <td>False</td>\n",
       "      <td>False</td>\n",
       "      <td>True</td>\n",
       "      <td>False</td>\n",
       "      <td>False</td>\n",
       "      <td>False</td>\n",
       "      <td>False</td>\n",
       "    </tr>\n",
       "    <tr>\n",
       "      <th>24</th>\n",
       "      <td>54400</td>\n",
       "      <td>8.0</td>\n",
       "      <td>35000</td>\n",
       "      <td>14.27</td>\n",
       "      <td>1</td>\n",
       "      <td>0.55</td>\n",
       "      <td>True</td>\n",
       "      <td>4</td>\n",
       "      <td>False</td>\n",
       "      <td>False</td>\n",
       "      <td>...</td>\n",
       "      <td>True</td>\n",
       "      <td>False</td>\n",
       "      <td>False</td>\n",
       "      <td>False</td>\n",
       "      <td>False</td>\n",
       "      <td>True</td>\n",
       "      <td>False</td>\n",
       "      <td>False</td>\n",
       "      <td>False</td>\n",
       "      <td>False</td>\n",
       "    </tr>\n",
       "    <tr>\n",
       "      <th>26</th>\n",
       "      <td>77100</td>\n",
       "      <td>8.0</td>\n",
       "      <td>35000</td>\n",
       "      <td>12.42</td>\n",
       "      <td>1</td>\n",
       "      <td>0.45</td>\n",
       "      <td>False</td>\n",
       "      <td>3</td>\n",
       "      <td>False</td>\n",
       "      <td>False</td>\n",
       "      <td>...</td>\n",
       "      <td>False</td>\n",
       "      <td>False</td>\n",
       "      <td>False</td>\n",
       "      <td>False</td>\n",
       "      <td>True</td>\n",
       "      <td>False</td>\n",
       "      <td>False</td>\n",
       "      <td>False</td>\n",
       "      <td>False</td>\n",
       "      <td>False</td>\n",
       "    </tr>\n",
       "    <tr>\n",
       "      <th>24</th>\n",
       "      <td>78956</td>\n",
       "      <td>5.0</td>\n",
       "      <td>35000</td>\n",
       "      <td>11.11</td>\n",
       "      <td>1</td>\n",
       "      <td>0.44</td>\n",
       "      <td>False</td>\n",
       "      <td>4</td>\n",
       "      <td>False</td>\n",
       "      <td>False</td>\n",
       "      <td>...</td>\n",
       "      <td>True</td>\n",
       "      <td>False</td>\n",
       "      <td>False</td>\n",
       "      <td>False</td>\n",
       "      <td>True</td>\n",
       "      <td>False</td>\n",
       "      <td>False</td>\n",
       "      <td>False</td>\n",
       "      <td>False</td>\n",
       "      <td>False</td>\n",
       "    </tr>\n",
       "  </tbody>\n",
       "</table>\n",
       "<p>5 rows × 25 columns</p>\n",
       "</div>"
      ],
      "text/plain": [
       "            person_income  person_emp_length  loan_amnt  loan_int_rate  \\\n",
       "person_age                                                               \n",
       "25                   9600                1.0       5500          12.87   \n",
       "23                  65500                4.0      35000          15.23   \n",
       "24                  54400                8.0      35000          14.27   \n",
       "26                  77100                8.0      35000          12.42   \n",
       "24                  78956                5.0      35000          11.11   \n",
       "\n",
       "            loan_status  loan_percent_income  cb_person_default_on_file  \\\n",
       "person_age                                                                \n",
       "25                    1                 0.57                      False   \n",
       "23                    1                 0.53                      False   \n",
       "24                    1                 0.55                       True   \n",
       "26                    1                 0.45                      False   \n",
       "24                    1                 0.44                      False   \n",
       "\n",
       "            cb_person_cred_hist_length  person_home_ownership_MORTGAGE  \\\n",
       "person_age                                                               \n",
       "25                                   3                            True   \n",
       "23                                   2                           False   \n",
       "24                                   4                           False   \n",
       "26                                   3                           False   \n",
       "24                                   4                           False   \n",
       "\n",
       "            person_home_ownership_OTHER  ...  loan_intent_MEDICAL  \\\n",
       "person_age                               ...                        \n",
       "25                                False  ...                 True   \n",
       "23                                False  ...                 True   \n",
       "24                                False  ...                 True   \n",
       "26                                False  ...                False   \n",
       "24                                False  ...                 True   \n",
       "\n",
       "            loan_intent_PERSONAL  loan_intent_VENTURE  loan_grade_A  \\\n",
       "person_age                                                            \n",
       "25                         False                False         False   \n",
       "23                         False                False         False   \n",
       "24                         False                False         False   \n",
       "26                         False                False         False   \n",
       "24                         False                False         False   \n",
       "\n",
       "            loan_grade_B  loan_grade_C  loan_grade_D  loan_grade_E  \\\n",
       "person_age                                                           \n",
       "25                 False          True         False         False   \n",
       "23                 False          True         False         False   \n",
       "24                 False          True         False         False   \n",
       "26                  True         False         False         False   \n",
       "24                  True         False         False         False   \n",
       "\n",
       "            loan_grade_F  loan_grade_G  \n",
       "person_age                              \n",
       "25                 False         False  \n",
       "23                 False         False  \n",
       "24                 False         False  \n",
       "26                 False         False  \n",
       "24                 False         False  \n",
       "\n",
       "[5 rows x 25 columns]"
      ]
     },
     "execution_count": 127,
     "metadata": {},
     "output_type": "execute_result"
    }
   ],
   "source": [
    "# Exibir as primeiras linhas do DataFrame com as colunas codificadas.\n",
    "credit_df.head()"
   ]
  },
  {
   "cell_type": "code",
   "execution_count": 128,
   "metadata": {},
   "outputs": [
    {
     "data": {
      "text/plain": [
       "Index(['person_income', 'person_emp_length', 'loan_amnt', 'loan_int_rate',\n",
       "       'loan_status', 'loan_percent_income', 'cb_person_default_on_file',\n",
       "       'cb_person_cred_hist_length', 'person_home_ownership_MORTGAGE',\n",
       "       'person_home_ownership_OTHER', 'person_home_ownership_OWN',\n",
       "       'person_home_ownership_RENT', 'loan_intent_DEBTCONSOLIDATION',\n",
       "       'loan_intent_EDUCATION', 'loan_intent_HOMEIMPROVEMENT',\n",
       "       'loan_intent_MEDICAL', 'loan_intent_PERSONAL', 'loan_intent_VENTURE',\n",
       "       'loan_grade_A', 'loan_grade_B', 'loan_grade_C', 'loan_grade_D',\n",
       "       'loan_grade_E', 'loan_grade_F', 'loan_grade_G'],\n",
       "      dtype='object')"
      ]
     },
     "execution_count": 128,
     "metadata": {},
     "output_type": "execute_result"
    }
   ],
   "source": [
    "# Vamos verificar como as colunas ficam após aplicar a codificação One Hot.\n",
    "# Observe como o número de colunas mudou.\n",
    "credit_df.columns"
   ]
  },
  {
   "cell_type": "code",
   "execution_count": 129,
   "metadata": {},
   "outputs": [
    {
     "data": {
      "text/plain": [
       "person_income                       int64\n",
       "person_emp_length                 float64\n",
       "loan_amnt                           int64\n",
       "loan_int_rate                     float64\n",
       "loan_status                         int64\n",
       "loan_percent_income               float64\n",
       "cb_person_default_on_file            bool\n",
       "cb_person_cred_hist_length          int64\n",
       "person_home_ownership_MORTGAGE       bool\n",
       "person_home_ownership_OTHER          bool\n",
       "person_home_ownership_OWN            bool\n",
       "person_home_ownership_RENT           bool\n",
       "loan_intent_DEBTCONSOLIDATION        bool\n",
       "loan_intent_EDUCATION                bool\n",
       "loan_intent_HOMEIMPROVEMENT          bool\n",
       "loan_intent_MEDICAL                  bool\n",
       "loan_intent_PERSONAL                 bool\n",
       "loan_intent_VENTURE                  bool\n",
       "loan_grade_A                         bool\n",
       "loan_grade_B                         bool\n",
       "loan_grade_C                         bool\n",
       "loan_grade_D                         bool\n",
       "loan_grade_E                         bool\n",
       "loan_grade_F                         bool\n",
       "loan_grade_G                         bool\n",
       "dtype: object"
      ]
     },
     "execution_count": 129,
     "metadata": {},
     "output_type": "execute_result"
    }
   ],
   "source": [
    "# Vamos verificar os tipos de dados das colunas.\n",
    "# Observe que todas as novas colunas são booleanas.\n",
    "credit_df.dtypes"
   ]
  },
  {
   "cell_type": "markdown",
   "metadata": {},
   "source": [
    "### 2.5: Padronização"
   ]
  },
  {
   "cell_type": "markdown",
   "metadata": {},
   "source": [
    "Agora vamos aplicar um processo de padronização aos dados para trabalhar melhor com eles em modelos de Machine Learning.\n",
    "\n",
    "- Padronização refere-se ao processo de ajustar a escala dos dados para que tenham uma média de zero e um desvio padrão de 1. O StandardScaler realiza essa normalização subtraindo a média de cada característica e depois dividindo pelo desvio padrão. Isso ajuda a garantir que os dados tenham uma distribuição mais uniforme e pode melhorar o desempenho de muitos algoritmos de aprendizado de máquina."
   ]
  },
  {
   "cell_type": "code",
   "execution_count": 130,
   "metadata": {},
   "outputs": [
    {
     "data": {
      "text/html": [
       "<div>\n",
       "<style scoped>\n",
       "    .dataframe tbody tr th:only-of-type {\n",
       "        vertical-align: middle;\n",
       "    }\n",
       "\n",
       "    .dataframe tbody tr th {\n",
       "        vertical-align: top;\n",
       "    }\n",
       "\n",
       "    .dataframe thead th {\n",
       "        text-align: right;\n",
       "    }\n",
       "</style>\n",
       "<table border=\"1\" class=\"dataframe\">\n",
       "  <thead>\n",
       "    <tr style=\"text-align: right;\">\n",
       "      <th></th>\n",
       "      <th>person_income</th>\n",
       "      <th>person_emp_length</th>\n",
       "      <th>loan_amnt</th>\n",
       "      <th>loan_int_rate</th>\n",
       "      <th>loan_status</th>\n",
       "      <th>loan_percent_income</th>\n",
       "      <th>cb_person_default_on_file</th>\n",
       "      <th>cb_person_cred_hist_length</th>\n",
       "      <th>person_home_ownership_MORTGAGE</th>\n",
       "      <th>person_home_ownership_OTHER</th>\n",
       "      <th>...</th>\n",
       "      <th>loan_intent_MEDICAL</th>\n",
       "      <th>loan_intent_PERSONAL</th>\n",
       "      <th>loan_intent_VENTURE</th>\n",
       "      <th>loan_grade_A</th>\n",
       "      <th>loan_grade_B</th>\n",
       "      <th>loan_grade_C</th>\n",
       "      <th>loan_grade_D</th>\n",
       "      <th>loan_grade_E</th>\n",
       "      <th>loan_grade_F</th>\n",
       "      <th>loan_grade_G</th>\n",
       "    </tr>\n",
       "    <tr>\n",
       "      <th>person_age</th>\n",
       "      <th></th>\n",
       "      <th></th>\n",
       "      <th></th>\n",
       "      <th></th>\n",
       "      <th></th>\n",
       "      <th></th>\n",
       "      <th></th>\n",
       "      <th></th>\n",
       "      <th></th>\n",
       "      <th></th>\n",
       "      <th></th>\n",
       "      <th></th>\n",
       "      <th></th>\n",
       "      <th></th>\n",
       "      <th></th>\n",
       "      <th></th>\n",
       "      <th></th>\n",
       "      <th></th>\n",
       "      <th></th>\n",
       "      <th></th>\n",
       "      <th></th>\n",
       "    </tr>\n",
       "  </thead>\n",
       "  <tbody>\n",
       "    <tr>\n",
       "      <th>25</th>\n",
       "      <td>-0.899012</td>\n",
       "      <td>-0.951127</td>\n",
       "      <td>-0.667268</td>\n",
       "      <td>0.600695</td>\n",
       "      <td>1</td>\n",
       "      <td>3.808117</td>\n",
       "      <td>False</td>\n",
       "      <td>-0.786389</td>\n",
       "      <td>True</td>\n",
       "      <td>False</td>\n",
       "      <td>...</td>\n",
       "      <td>True</td>\n",
       "      <td>False</td>\n",
       "      <td>False</td>\n",
       "      <td>False</td>\n",
       "      <td>False</td>\n",
       "      <td>True</td>\n",
       "      <td>False</td>\n",
       "      <td>False</td>\n",
       "      <td>False</td>\n",
       "      <td>False</td>\n",
       "    </tr>\n",
       "    <tr>\n",
       "      <th>23</th>\n",
       "      <td>-0.050568</td>\n",
       "      <td>-0.233549</td>\n",
       "      <td>3.921085</td>\n",
       "      <td>1.364416</td>\n",
       "      <td>1</td>\n",
       "      <td>3.429622</td>\n",
       "      <td>False</td>\n",
       "      <td>-1.024891</td>\n",
       "      <td>False</td>\n",
       "      <td>False</td>\n",
       "      <td>...</td>\n",
       "      <td>True</td>\n",
       "      <td>False</td>\n",
       "      <td>False</td>\n",
       "      <td>False</td>\n",
       "      <td>False</td>\n",
       "      <td>True</td>\n",
       "      <td>False</td>\n",
       "      <td>False</td>\n",
       "      <td>False</td>\n",
       "      <td>False</td>\n",
       "    </tr>\n",
       "    <tr>\n",
       "      <th>24</th>\n",
       "      <td>-0.219042</td>\n",
       "      <td>0.723222</td>\n",
       "      <td>3.921085</td>\n",
       "      <td>1.053750</td>\n",
       "      <td>1</td>\n",
       "      <td>3.618870</td>\n",
       "      <td>True</td>\n",
       "      <td>-0.547887</td>\n",
       "      <td>False</td>\n",
       "      <td>False</td>\n",
       "      <td>...</td>\n",
       "      <td>True</td>\n",
       "      <td>False</td>\n",
       "      <td>False</td>\n",
       "      <td>False</td>\n",
       "      <td>False</td>\n",
       "      <td>True</td>\n",
       "      <td>False</td>\n",
       "      <td>False</td>\n",
       "      <td>False</td>\n",
       "      <td>False</td>\n",
       "    </tr>\n",
       "    <tr>\n",
       "      <th>26</th>\n",
       "      <td>0.125496</td>\n",
       "      <td>0.723222</td>\n",
       "      <td>3.921085</td>\n",
       "      <td>0.455070</td>\n",
       "      <td>1</td>\n",
       "      <td>2.672633</td>\n",
       "      <td>False</td>\n",
       "      <td>-0.786389</td>\n",
       "      <td>False</td>\n",
       "      <td>False</td>\n",
       "      <td>...</td>\n",
       "      <td>False</td>\n",
       "      <td>False</td>\n",
       "      <td>False</td>\n",
       "      <td>False</td>\n",
       "      <td>True</td>\n",
       "      <td>False</td>\n",
       "      <td>False</td>\n",
       "      <td>False</td>\n",
       "      <td>False</td>\n",
       "      <td>False</td>\n",
       "    </tr>\n",
       "    <tr>\n",
       "      <th>24</th>\n",
       "      <td>0.153666</td>\n",
       "      <td>0.005643</td>\n",
       "      <td>3.921085</td>\n",
       "      <td>0.031140</td>\n",
       "      <td>1</td>\n",
       "      <td>2.578009</td>\n",
       "      <td>False</td>\n",
       "      <td>-0.547887</td>\n",
       "      <td>False</td>\n",
       "      <td>False</td>\n",
       "      <td>...</td>\n",
       "      <td>True</td>\n",
       "      <td>False</td>\n",
       "      <td>False</td>\n",
       "      <td>False</td>\n",
       "      <td>True</td>\n",
       "      <td>False</td>\n",
       "      <td>False</td>\n",
       "      <td>False</td>\n",
       "      <td>False</td>\n",
       "      <td>False</td>\n",
       "    </tr>\n",
       "  </tbody>\n",
       "</table>\n",
       "<p>5 rows × 25 columns</p>\n",
       "</div>"
      ],
      "text/plain": [
       "            person_income  person_emp_length  loan_amnt  loan_int_rate  \\\n",
       "person_age                                                               \n",
       "25              -0.899012          -0.951127  -0.667268       0.600695   \n",
       "23              -0.050568          -0.233549   3.921085       1.364416   \n",
       "24              -0.219042           0.723222   3.921085       1.053750   \n",
       "26               0.125496           0.723222   3.921085       0.455070   \n",
       "24               0.153666           0.005643   3.921085       0.031140   \n",
       "\n",
       "            loan_status  loan_percent_income  cb_person_default_on_file  \\\n",
       "person_age                                                                \n",
       "25                    1             3.808117                      False   \n",
       "23                    1             3.429622                      False   \n",
       "24                    1             3.618870                       True   \n",
       "26                    1             2.672633                      False   \n",
       "24                    1             2.578009                      False   \n",
       "\n",
       "            cb_person_cred_hist_length  person_home_ownership_MORTGAGE  \\\n",
       "person_age                                                               \n",
       "25                           -0.786389                            True   \n",
       "23                           -1.024891                           False   \n",
       "24                           -0.547887                           False   \n",
       "26                           -0.786389                           False   \n",
       "24                           -0.547887                           False   \n",
       "\n",
       "            person_home_ownership_OTHER  ...  loan_intent_MEDICAL  \\\n",
       "person_age                               ...                        \n",
       "25                                False  ...                 True   \n",
       "23                                False  ...                 True   \n",
       "24                                False  ...                 True   \n",
       "26                                False  ...                False   \n",
       "24                                False  ...                 True   \n",
       "\n",
       "            loan_intent_PERSONAL  loan_intent_VENTURE  loan_grade_A  \\\n",
       "person_age                                                            \n",
       "25                         False                False         False   \n",
       "23                         False                False         False   \n",
       "24                         False                False         False   \n",
       "26                         False                False         False   \n",
       "24                         False                False         False   \n",
       "\n",
       "            loan_grade_B  loan_grade_C  loan_grade_D  loan_grade_E  \\\n",
       "person_age                                                           \n",
       "25                 False          True         False         False   \n",
       "23                 False          True         False         False   \n",
       "24                 False          True         False         False   \n",
       "26                  True         False         False         False   \n",
       "24                  True         False         False         False   \n",
       "\n",
       "            loan_grade_F  loan_grade_G  \n",
       "person_age                              \n",
       "25                 False         False  \n",
       "23                 False         False  \n",
       "24                 False         False  \n",
       "26                 False         False  \n",
       "24                 False         False  \n",
       "\n",
       "[5 rows x 25 columns]"
      ]
     },
     "execution_count": 130,
     "metadata": {},
     "output_type": "execute_result"
    }
   ],
   "source": [
    "from sklearn.preprocessing import StandardScaler\n",
    "\n",
    "# Selecionar apenas as colunas numéricas para padronização.\n",
    "numeric_columns = credit_df.select_dtypes(include=['float64', 'int64']).columns\n",
    "\n",
    "# Excluir a coluna 'loan_status' das colunas numéricas\n",
    "numeric_columns = numeric_columns.drop('loan_status')\n",
    "\n",
    "# Criar uma cópia do dataframe para evitar alterações no original\n",
    "credit_df_scaled = credit_df.copy()\n",
    "\n",
    "# Inicializar o StandardScaler.\n",
    "scaler = StandardScaler()\n",
    "\n",
    "# Aplicar padronização apenas às colunas numéricas.\n",
    "credit_df_scaled[numeric_columns] = scaler.fit_transform(credit_df[numeric_columns])\n",
    "\n",
    "# Mostrar as primeiras linhas de 'credit_df_padronizado'.\n",
    "credit_df_scaled.head()\n"
   ]
  },
  {
   "cell_type": "code",
   "execution_count": 131,
   "metadata": {},
   "outputs": [],
   "source": [
    "# # Save churn_df to an csv file\n",
    "# credit_df_scaled.to_csv('credito_dados_limpo(csv).csv', index=False)\n",
    "\n",
    "# # Save churn_df to an excel file\n",
    "# credit_df_scaled.to_excel('credito_dados_limpo(excel).xlsx', index=False)"
   ]
  },
  {
   "cell_type": "markdown",
   "metadata": {},
   "source": [
    "# Capítulo 3: Construção e Teste de Modelos de Aprendizado de Máquina"
   ]
  },
  {
   "cell_type": "markdown",
   "metadata": {},
   "source": [
    "Vamos prosseguir com a construção de nossos modelos de Aprendizado de Máquina.\n",
    "\n",
    "Também iremos realizar algumas 'GridSearch' para encontrar os melhores parâmetros para determinados algoritmos.\n",
    "\n",
    "Depois disso, vamos testar nossos algoritmos para observar seu desempenho.\n",
    "\n",
    "Treinamos todos os modelos usando o conjunto de dados padrão, bem como técnicas de undersampling e SMOTE para lidar com o desequilíbrio de classes. No entanto, para fins de otimização do projeto, optamos por reter apenas os modelos mais relevantes."
   ]
  },
  {
   "cell_type": "markdown",
   "metadata": {},
   "source": [
    "### 3.1: Divisão dos Dados em Conjuntos de Treinamento e Teste"
   ]
  },
  {
   "cell_type": "code",
   "execution_count": 132,
   "metadata": {},
   "outputs": [
    {
     "name": "stdout",
     "output_type": "stream",
     "text": [
      "Forma do conjunto de treinamento: (16631, 24) (16631,)\n",
      "Forma do conjunto de validação: (5544, 24) (5544,)\n",
      "Forma do conjunto de teste: (5544, 24) (5544,)\n"
     ]
    }
   ],
   "source": [
    "from sklearn.model_selection import train_test_split\n",
    "\n",
    "# Separar a variável alvo das outras.\n",
    "X = credit_df_scaled.drop('loan_status', axis=1)  # Features (independent variables)\n",
    "y = credit_df_scaled['loan_status']  # Target variable (labels)\n",
    "\n",
    "# Dividir os dados em conjuntos de treinamento e teste com estratificação\n",
    "X_train_val, X_test, y_train_val, y_test = train_test_split(X, y, test_size=0.2, stratify=y, random_state=42)\n",
    "X_train, X_val, y_train, y_val = train_test_split(X_train_val, y_train_val, test_size=0.25, random_state=42)  # Splitting again to obtain the validation set\n",
    "\n",
    "# Exibindo as formas dos conjuntos de dados resultantes\n",
    "print(\"Forma do conjunto de treinamento:\", X_train.shape, y_train.shape)\n",
    "print(\"Forma do conjunto de validação:\", X_val.shape, y_val.shape)\n",
    "print(\"Forma do conjunto de teste:\", X_test.shape, y_test.shape)"
   ]
  },
  {
   "cell_type": "code",
   "execution_count": 133,
   "metadata": {},
   "outputs": [
    {
     "data": {
      "text/plain": [
       "(loan_status\n",
       " 0    13097\n",
       " 1     3534\n",
       " Name: count, dtype: int64,\n",
       " loan_status\n",
       " 0    4396\n",
       " 1    1148\n",
       " Name: count, dtype: int64,\n",
       " loan_status\n",
       " 0    4374\n",
       " 1    1170\n",
       " Name: count, dtype: int64)"
      ]
     },
     "execution_count": 133,
     "metadata": {},
     "output_type": "execute_result"
    }
   ],
   "source": [
    "# Contando as ocorrências de cada classe nos conjuntos de treinamento, validação e teste\n",
    "pd.Series(y_train).value_counts(), pd.Series(y_val).value_counts(), pd.Series(y_test).value_counts()"
   ]
  },
  {
   "cell_type": "markdown",
   "metadata": {},
   "source": [
    "- Undersampling"
   ]
  },
  {
   "cell_type": "code",
   "execution_count": 134,
   "metadata": {},
   "outputs": [
    {
     "name": "stdout",
     "output_type": "stream",
     "text": [
      "Forma do conjunto de treinamento após undersampling: (7068, 24) (7068,)\n"
     ]
    }
   ],
   "source": [
    "from imblearn.under_sampling import RandomUnderSampler\n",
    "\n",
    "# Criar o amostrador para undersampling\n",
    "undersampler = RandomUnderSampler(random_state=42)\n",
    "\n",
    "# Aplicar undersampling apenas ao conjunto de treinamento\n",
    "X_train_us, y_train_us = undersampler.fit_resample(X_train, y_train)\n",
    "\n",
    "print(\"Forma do conjunto de treinamento após undersampling:\", X_train_us.shape, y_train_us.shape)"
   ]
  },
  {
   "cell_type": "code",
   "execution_count": 135,
   "metadata": {},
   "outputs": [
    {
     "data": {
      "text/plain": [
       "loan_status\n",
       "0    3534\n",
       "1    3534\n",
       "Name: count, dtype: int64"
      ]
     },
     "execution_count": 135,
     "metadata": {},
     "output_type": "execute_result"
    }
   ],
   "source": [
    "# Contando as ocorrências de cada classe nos conjuntos de treinamento, validação e teste\n",
    "pd.Series(y_train_us).value_counts()"
   ]
  },
  {
   "cell_type": "markdown",
   "metadata": {},
   "source": [
    "- SMOTE"
   ]
  },
  {
   "cell_type": "code",
   "execution_count": 136,
   "metadata": {},
   "outputs": [],
   "source": [
    "from imblearn.over_sampling import SMOTE\n",
    "\n",
    "# Aplicar o SMOTE apenas no conjunto de treinamento para lidar com o desequilíbrio de classes\n",
    "smote = SMOTE(random_state=42)\n",
    "X_train_smote, y_train_smote = smote.fit_resample(X_train, y_train)"
   ]
  },
  {
   "cell_type": "code",
   "execution_count": 137,
   "metadata": {},
   "outputs": [
    {
     "data": {
      "text/plain": [
       "loan_status\n",
       "0    13097\n",
       "1    13097\n",
       "Name: count, dtype: int64"
      ]
     },
     "execution_count": 137,
     "metadata": {},
     "output_type": "execute_result"
    }
   ],
   "source": [
    "# Contando as ocorrências de cada classe nos conjuntos de treinamento, validação e teste\n",
    "pd.Series(y_train_smote).value_counts()"
   ]
  },
  {
   "cell_type": "markdown",
   "metadata": {},
   "source": [
    "### 3.2: Regressão Logística"
   ]
  },
  {
   "cell_type": "markdown",
   "metadata": {},
   "source": [
    "- Normal"
   ]
  },
  {
   "cell_type": "code",
   "execution_count": 138,
   "metadata": {},
   "outputs": [
    {
     "name": "stdout",
     "output_type": "stream",
     "text": [
      "              precision    recall  f1-score   support\n",
      "\n",
      "Not Approved       0.89      0.95      0.92      4396\n",
      "    Approved       0.74      0.54      0.63      1148\n",
      "\n",
      "    accuracy                           0.87      5544\n",
      "   macro avg       0.81      0.75      0.77      5544\n",
      "weighted avg       0.86      0.87      0.86      5544\n",
      "\n"
     ]
    }
   ],
   "source": [
    "from sklearn.linear_model import LogisticRegression\n",
    "from sklearn.metrics import classification_report\n",
    "\n",
    "# Instanciar o modelo de regressão logística\n",
    "logistic_model = LogisticRegression(random_state=42)\n",
    "\n",
    "# Treinar o modelo de regressão logística\n",
    "logistic_model.fit(X_train, y_train)\n",
    "\n",
    "# Gerar o relatório de classificação para o conjunto de validação original desbalanceado\n",
    "print(classification_report(y_val, logistic_model.predict(X_val), target_names=['Not Approved', 'Approved']))"
   ]
  },
  {
   "cell_type": "markdown",
   "metadata": {},
   "source": [
    "- Undersampling"
   ]
  },
  {
   "cell_type": "code",
   "execution_count": 139,
   "metadata": {},
   "outputs": [
    {
     "name": "stdout",
     "output_type": "stream",
     "text": [
      "              precision    recall  f1-score   support\n",
      "\n",
      "Not Approved       0.93      0.81      0.87      4396\n",
      "    Approved       0.52      0.77      0.62      1148\n",
      "\n",
      "    accuracy                           0.81      5544\n",
      "   macro avg       0.73      0.79      0.75      5544\n",
      "weighted avg       0.85      0.81      0.82      5544\n",
      "\n"
     ]
    }
   ],
   "source": [
    "# Treinar o modelo de regressão logística\n",
    "logistic_model.fit(X_train_us, y_train_us)\n",
    "\n",
    "# Gerar o relatório de classificação para o conjunto de validação original desbalanceado\n",
    "print(classification_report(y_val, logistic_model.predict(X_val), target_names=['Not Approved', 'Approved']))"
   ]
  },
  {
   "cell_type": "markdown",
   "metadata": {},
   "source": [
    "### 3.3: Random Forest"
   ]
  },
  {
   "cell_type": "markdown",
   "metadata": {},
   "source": [
    "- Normal"
   ]
  },
  {
   "cell_type": "code",
   "execution_count": 140,
   "metadata": {},
   "outputs": [
    {
     "name": "stdout",
     "output_type": "stream",
     "text": [
      "              precision    recall  f1-score   support\n",
      "\n",
      "Not Approved       0.93      0.99      0.96      4396\n",
      "    Approved       0.95      0.71      0.81      1148\n",
      "\n",
      "    accuracy                           0.93      5544\n",
      "   macro avg       0.94      0.85      0.89      5544\n",
      "weighted avg       0.93      0.93      0.93      5544\n",
      "\n"
     ]
    }
   ],
   "source": [
    "from sklearn.ensemble import RandomForestClassifier\n",
    "\n",
    "# Inicializar o modelo Random Forest.\n",
    "rf_model = RandomForestClassifier(random_state=42)\n",
    "\n",
    "# Treinar o modelo.\n",
    "rf_model.fit(X_train, y_train)\n",
    "# Gerar o relatório de classificação para o conjunto de validação original desbalanceado\n",
    "print(classification_report(y_val, rf_model.predict(X_val), target_names=['Not Approved', 'Approved']))"
   ]
  },
  {
   "cell_type": "markdown",
   "metadata": {},
   "source": [
    "- Undersampling"
   ]
  },
  {
   "cell_type": "code",
   "execution_count": 141,
   "metadata": {},
   "outputs": [
    {
     "name": "stdout",
     "output_type": "stream",
     "text": [
      "              precision    recall  f1-score   support\n",
      "\n",
      "Not Approved       0.94      0.90      0.92      4396\n",
      "    Approved       0.67      0.79      0.73      1148\n",
      "\n",
      "    accuracy                           0.88      5544\n",
      "   macro avg       0.81      0.84      0.82      5544\n",
      "weighted avg       0.89      0.88      0.88      5544\n",
      "\n"
     ]
    }
   ],
   "source": [
    "# Train the Random Forest classifier \n",
    "rf_model.fit(X_train_us, y_train_us)\n",
    "\n",
    "# Generate classification report for the original imbalanced validation set\n",
    "print(classification_report(y_val, rf_model.predict(X_val), target_names=['Not Approved', 'Approved']))"
   ]
  },
  {
   "cell_type": "markdown",
   "metadata": {},
   "source": [
    "- SMOTE"
   ]
  },
  {
   "cell_type": "code",
   "execution_count": 142,
   "metadata": {},
   "outputs": [
    {
     "name": "stdout",
     "output_type": "stream",
     "text": [
      "              precision    recall  f1-score   support\n",
      "\n",
      "Not Approved       0.93      0.97      0.95      4396\n",
      "    Approved       0.87      0.73      0.79      1148\n",
      "\n",
      "    accuracy                           0.92      5544\n",
      "   macro avg       0.90      0.85      0.87      5544\n",
      "weighted avg       0.92      0.92      0.92      5544\n",
      "\n"
     ]
    }
   ],
   "source": [
    "# Treinar o classificador Random Forest\n",
    "rf_model.fit(X_train_smote, y_train_smote)\n",
    "\n",
    "# Gerar o relatório de classificação para o conjunto de validação original desbalanceado\n",
    "print(classification_report(y_val, rf_model.predict(X_val), target_names=['Not Approved', 'Approved']))"
   ]
  },
  {
   "cell_type": "markdown",
   "metadata": {},
   "source": [
    "### 3.4: Gradient Boosting"
   ]
  },
  {
   "cell_type": "markdown",
   "metadata": {},
   "source": [
    "- Normal"
   ]
  },
  {
   "cell_type": "code",
   "execution_count": 143,
   "metadata": {},
   "outputs": [
    {
     "name": "stdout",
     "output_type": "stream",
     "text": [
      "              precision    recall  f1-score   support\n",
      "\n",
      "Not Approved       0.93      0.99      0.96      4396\n",
      "    Approved       0.95      0.72      0.82      1148\n",
      "\n",
      "    accuracy                           0.93      5544\n",
      "   macro avg       0.94      0.85      0.89      5544\n",
      "weighted avg       0.94      0.93      0.93      5544\n",
      "\n"
     ]
    }
   ],
   "source": [
    "from sklearn.ensemble import GradientBoostingClassifier\n",
    "\n",
    "# Inicializar o modelo Gradient Boosting.\n",
    "gb_model = GradientBoostingClassifier(learning_rate=0.1, max_depth=5, min_samples_leaf=1, min_samples_split=10, n_estimators=150, subsample=0.9, random_state=42)\n",
    "\n",
    "# Treinar o modelo.\n",
    "gb_model.fit(X_train, y_train)\n",
    "\n",
    "# Gerar o relatório de classificação para o conjunto de validação original desbalanceado\n",
    "print(classification_report(y_val, gb_model.predict(X_val), target_names=['Not Approved', 'Approved']))"
   ]
  },
  {
   "cell_type": "markdown",
   "metadata": {},
   "source": [
    "A busca em grade foi realizada para encontrar os melhores parâmetros. O código está comentado abaixo."
   ]
  },
  {
   "cell_type": "code",
   "execution_count": 144,
   "metadata": {},
   "outputs": [],
   "source": [
    "# from sklearn.ensemble import GradientBoostingClassifier\n",
    "# from sklearn.model_selection import GridSearchCV\n",
    "# from sklearn.metrics import accuracy_score, classification_report, confusion_matrix\n",
    "\n",
    "# # Define the parameters to be tuned\n",
    "# param_grid_gb = {\n",
    "#     'n_estimators': [50, 100, 150],\n",
    "#     'learning_rate': [0.01, 0.1, 0.2],\n",
    "#     'max_depth': [3, 4, 5],\n",
    "#     'min_samples_split': [2, 5, 10],\n",
    "#     'min_samples_leaf': [1, 2, 4],\n",
    "#     'subsample': [0.8, 0.9, 1.0]\n",
    "# }\n",
    "\n",
    "# # Initialize the Gradient Boosting model\n",
    "# gb_model = GradientBoostingClassifier(random_state=42)\n",
    "\n",
    "# # Create the GridSearchCV object\n",
    "# grid_search_gb = GridSearchCV(gb_model, param_grid_gb, cv=5, scoring='accuracy', n_jobs=-1)\n",
    "\n",
    "# # Perform grid search on the training data\n",
    "# grid_search_gb.fit(X_train, y_train)\n",
    "\n",
    "# # Best parameters found\n",
    "# best_params_gb = grid_search_gb.best_params_\n",
    "\n",
    "# # Train the model with the best parameters\n",
    "# best_model_gb = grid_search_gb.best_estimator_\n",
    "# best_model_gb.fit(X_train, y_train)\n",
    "\n",
    "# # Make predictions on the test set\n",
    "# y_pred_gb = best_model_gb.predict(X_test)\n",
    "\n",
    "# # Evaluate the model's performance\n",
    "# accuracy_gb = accuracy_score(y_test, y_pred_gb)\n",
    "# conf_matrix_gb = confusion_matrix(y_test, y_pred_gb)\n",
    "# classification_rep_gb = classification_report(y_test, y_pred_gb)\n",
    "\n",
    "# # Display performance metrics and best parameters\n",
    "# print(f'Best Gradient Boosting Parameters: {best_params_gb}')\n",
    "# print(f'Gradient Boosting Accuracy: {accuracy_gb:.4f}')\n",
    "# print(f'Confusion Matrix for Gradient Boosting:\\n{conf_matrix_gb}')\n",
    "# print(f'Classification Report for Gradient Boosting:\\n{classification_rep_gb}')\n",
    "# # Without grid search, the result had been 0.9265, so it didn't improve much."
   ]
  },
  {
   "cell_type": "markdown",
   "metadata": {},
   "source": [
    "- Undersampling"
   ]
  },
  {
   "cell_type": "code",
   "execution_count": 145,
   "metadata": {},
   "outputs": [
    {
     "name": "stdout",
     "output_type": "stream",
     "text": [
      "              precision    recall  f1-score   support\n",
      "\n",
      "Not Approved       0.95      0.91      0.93      4396\n",
      "    Approved       0.69      0.80      0.74      1148\n",
      "\n",
      "    accuracy                           0.88      5544\n",
      "   macro avg       0.82      0.85      0.83      5544\n",
      "weighted avg       0.89      0.88      0.89      5544\n",
      "\n"
     ]
    }
   ],
   "source": [
    "# Treinar o modelo.\n",
    "gb_model.fit(X_train_us, y_train_us)\n",
    "\n",
    "# Gerar o relatório de classificação para o conjunto de validação original desbalanceado\n",
    "print(classification_report(y_val, gb_model.predict(X_val), target_names=['Not Approved', 'Approved']))"
   ]
  },
  {
   "cell_type": "markdown",
   "metadata": {},
   "source": [
    "### 3.5: Máquina de Vetores de Suporte (SVM)"
   ]
  },
  {
   "cell_type": "code",
   "execution_count": 146,
   "metadata": {},
   "outputs": [
    {
     "name": "stdout",
     "output_type": "stream",
     "text": [
      "              precision    recall  f1-score   support\n",
      "\n",
      "Not Approved       0.92      0.99      0.95      4396\n",
      "    Approved       0.93      0.65      0.77      1148\n",
      "\n",
      "    accuracy                           0.92      5544\n",
      "   macro avg       0.93      0.82      0.86      5544\n",
      "weighted avg       0.92      0.92      0.91      5544\n",
      "\n"
     ]
    }
   ],
   "source": [
    "from sklearn.svm import SVC\n",
    "\n",
    "# Inicializar o modelo SVM.\n",
    "svm_model = SVC(random_state=42)\n",
    "\n",
    "# Treinar o modelo.\n",
    "svm_model.fit(X_train, y_train)\n",
    "\n",
    "# Gerar o relatório de classificação para o conjunto de validação original desbalanceado\n",
    "print(classification_report(y_val, svm_model.predict(X_val), target_names=['Not Approved', 'Approved']))"
   ]
  },
  {
   "cell_type": "markdown",
   "metadata": {},
   "source": [
    "### 3.6: K-Nearest Neighbors (KNN)"
   ]
  },
  {
   "cell_type": "code",
   "execution_count": 147,
   "metadata": {},
   "outputs": [
    {
     "name": "stdout",
     "output_type": "stream",
     "text": [
      "              precision    recall  f1-score   support\n",
      "\n",
      "Not Approved       0.91      0.98      0.94      4396\n",
      "    Approved       0.90      0.61      0.72      1148\n",
      "\n",
      "    accuracy                           0.90      5544\n",
      "   macro avg       0.90      0.79      0.83      5544\n",
      "weighted avg       0.90      0.90      0.90      5544\n",
      "\n"
     ]
    }
   ],
   "source": [
    "from sklearn.neighbors import KNeighborsClassifier\n",
    "\n",
    "# Inicializar o modelo KNN.\n",
    "knn_model = KNeighborsClassifier(metric= 'manhattan', n_neighbors=9, weights='distance')\n",
    "\n",
    "# Treinar o modelo.\n",
    "knn_model.fit(X_train, y_train)\n",
    "\n",
    "# Gerar o relatório de classificação para o conjunto de validação original desbalanceado\n",
    "print(classification_report(y_val, knn_model.predict(X_val), target_names=['Not Approved', 'Approved']))"
   ]
  },
  {
   "cell_type": "markdown",
   "metadata": {},
   "source": [
    "GridSearch was performed to find the best parameters. The code is commented below."
   ]
  },
  {
   "cell_type": "code",
   "execution_count": 148,
   "metadata": {},
   "outputs": [],
   "source": [
    "# from sklearn.model_selection import GridSearchCV\n",
    "\n",
    "# # Define the parameters you want to test\n",
    "# param_grid = {\n",
    "#     'n_neighbors': [3, 5, 7, 9],  # test different values for the number of neighbors\n",
    "#     'weights': ['uniform', 'distance'],  # test different weighting methods\n",
    "#     'metric': ['euclidean', 'manhattan']  # test different distance metrics\n",
    "# }\n",
    "\n",
    "# # Initialize the KNN model\n",
    "# knn_model = KNeighborsClassifier()\n",
    "\n",
    "# # Initialize the grid search\n",
    "# grid_search = GridSearchCV(estimator=knn_model, param_grid=param_grid, scoring='accuracy', cv=5)\n",
    "\n",
    "# # Perform grid search on the training set\n",
    "# grid_search.fit(X_train, y_train)\n",
    "\n",
    "# # Get the best parameters found\n",
    "# best_params = grid_search.best_params_\n",
    "\n",
    "# # Train the model with the best parameters on the full training set\n",
    "# best_knn_model = KNeighborsClassifier(**best_params)\n",
    "# best_knn_model.fit(X_train, y_train)\n",
    "\n",
    "# # Make predictions on the test set using the optimized model\n",
    "# y_pred_best_knn = best_knn_model.predict(X_test)\n",
    "\n",
    "# # Evaluate the performance of the optimized model\n",
    "# accuracy_best_knn = accuracy_score(y_test, y_pred_best_knn)\n",
    "# conf_matrix_best_knn = confusion_matrix(y_test, y_pred_best_knn)\n",
    "# classification_rep_best_knn = classification_report(y_test, y_pred_best_knn)\n",
    "\n",
    "# # Display performance metrics of the optimized model\n",
    "# print(f'Best parameters found: {best_params}')\n",
    "# print(f'Optimized KNN accuracy: {accuracy_best_knn:.4f}')\n",
    "# print(f'Confusion Matrix for Optimized KNN:\\n{conf_matrix_best_knn}')\n",
    "# print(f'Classification Report for Optimized KNN:\\n{classification_rep_best_knn}')"
   ]
  },
  {
   "cell_type": "markdown",
   "metadata": {},
   "source": [
    "- Undersampling"
   ]
  },
  {
   "cell_type": "code",
   "execution_count": 149,
   "metadata": {},
   "outputs": [
    {
     "name": "stdout",
     "output_type": "stream",
     "text": [
      "              precision    recall  f1-score   support\n",
      "\n",
      "Not Approved       0.93      0.84      0.88      4396\n",
      "    Approved       0.55      0.75      0.63      1148\n",
      "\n",
      "    accuracy                           0.82      5544\n",
      "   macro avg       0.74      0.80      0.76      5544\n",
      "weighted avg       0.85      0.82      0.83      5544\n",
      "\n"
     ]
    }
   ],
   "source": [
    "# Treinar o modelo.\n",
    "knn_model.fit(X_train_us, y_train_us)\n",
    "\n",
    "# Gerar o relatório de classificação para o conjunto de validação original desbalanceado\n",
    "print(classification_report(y_val, knn_model.predict(X_val), target_names=['Not Approved', 'Approved']))"
   ]
  },
  {
   "cell_type": "markdown",
   "metadata": {},
   "source": [
    "### 3.7: Redes Neurais"
   ]
  },
  {
   "cell_type": "code",
   "execution_count": 150,
   "metadata": {},
   "outputs": [
    {
     "name": "stdout",
     "output_type": "stream",
     "text": [
      "              precision    recall  f1-score   support\n",
      "\n",
      "Not Approved       0.92      0.98      0.95      4396\n",
      "    Approved       0.90      0.69      0.78      1148\n",
      "\n",
      "    accuracy                           0.92      5544\n",
      "   macro avg       0.91      0.83      0.87      5544\n",
      "weighted avg       0.92      0.92      0.92      5544\n",
      "\n"
     ]
    }
   ],
   "source": [
    "from sklearn.neural_network import MLPClassifier\n",
    "from sklearn.metrics import accuracy_score, classification_report, confusion_matrix\n",
    "\n",
    "# Inicializar o modelo Rede Neural.\n",
    "mlp_model = MLPClassifier(max_iter=500, random_state=42)\n",
    "\n",
    "# Treinar o modelo.\n",
    "mlp_model.fit(X_train, y_train)\n",
    "\n",
    "# Gerar o relatório de classificação para o conjunto de validação original desbalanceado\n",
    "print(classification_report(y_val, mlp_model.predict(X_val), target_names=['Not Approved', 'Approved']))\n"
   ]
  },
  {
   "cell_type": "code",
   "execution_count": 151,
   "metadata": {},
   "outputs": [
    {
     "name": "stdout",
     "output_type": "stream",
     "text": [
      "              precision    recall  f1-score   support\n",
      "\n",
      "Not Approved       0.94      0.87      0.90      4396\n",
      "    Approved       0.60      0.78      0.68      1148\n",
      "\n",
      "    accuracy                           0.85      5544\n",
      "   macro avg       0.77      0.82      0.79      5544\n",
      "weighted avg       0.87      0.85      0.86      5544\n",
      "\n"
     ]
    }
   ],
   "source": [
    "# Treinar o modelo.\n",
    "mlp_model.fit(X_train_us, y_train_us)\n",
    "\n",
    "# Gerar o relatório de classificação para o conjunto de validação original desbalanceado\n",
    "print(classification_report(y_val, mlp_model.predict(X_val), target_names=['Not Approved', 'Approved']))"
   ]
  },
  {
   "cell_type": "markdown",
   "metadata": {},
   "source": [
    "# Capítulo 4: Conclusão\n",
    "\n",
    "Chegamos ao final do nosso projeto. Vamos agora dar uma olhada em nossas conclusões finais!"
   ]
  },
  {
   "cell_type": "markdown",
   "metadata": {},
   "source": [
    "Após avaliar vários modelos, identificamos o modelo Gradient Boosting como o mais preciso na previsão dos resultados de aprovação de empréstimos. Este modelo demonstra desempenho superior em discernir situações onde os empréstimos são prováveis de serem aprovados ou negados. Suas capacidades preditivas robustas o tornam a melhor escolha para nosso framework de decisão de empréstimos."
   ]
  },
  {
   "cell_type": "code",
   "execution_count": 152,
   "metadata": {},
   "outputs": [
    {
     "name": "stdout",
     "output_type": "stream",
     "text": [
      "              precision    recall  f1-score   support\n",
      "\n",
      "Not Approved       0.93      0.99      0.96      4374\n",
      "    Approved       0.96      0.73      0.83      1170\n",
      "\n",
      "    accuracy                           0.94      5544\n",
      "   macro avg       0.95      0.86      0.90      5544\n",
      "weighted avg       0.94      0.94      0.93      5544\n",
      "\n"
     ]
    }
   ],
   "source": [
    "import pickle\n",
    "\n",
    "# Treinar o modelo.\n",
    "gb_model.fit(X_train, y_train)\n",
    "\n",
    "# # Salvar o modelo treinado em um arquivo\n",
    "# with open('credito_gb_padrao.pkl', 'wb') as file:\n",
    "#     pickle.dump(gb_model, file)\n",
    "\n",
    "# Gerar o relatório de classificação para o conjunto de teste original desbalanceado\n",
    "print(classification_report(y_test, gb_model.predict(X_test), target_names=['Not Approved', 'Approved']))"
   ]
  },
  {
   "cell_type": "markdown",
   "metadata": {},
   "source": [
    "O modelo de Gradient Boosting, treinado em conjuntos de dados undersampled, demonstrou uma eficácia superior na previsão de aprovações de empréstimos dentro do contexto de um conjunto de dados desequilibrado."
   ]
  },
  {
   "cell_type": "code",
   "execution_count": 153,
   "metadata": {},
   "outputs": [
    {
     "name": "stdout",
     "output_type": "stream",
     "text": [
      "              precision    recall  f1-score   support\n",
      "\n",
      "Not Approved       0.95      0.91      0.93      4374\n",
      "    Approved       0.71      0.83      0.76      1170\n",
      "\n",
      "    accuracy                           0.89      5544\n",
      "   macro avg       0.83      0.87      0.85      5544\n",
      "weighted avg       0.90      0.89      0.89      5544\n",
      "\n"
     ]
    }
   ],
   "source": [
    "# Treinar o modelo.\n",
    "gb_model.fit(X_train_us, y_train_us)\n",
    "\n",
    "# # Salvar o modelo treinado em um arquivo\n",
    "# with open('credito_gb_us.pkl', 'wb') as file:\n",
    "#     pickle.dump(gb_model, file)\n",
    "\n",
    "# Gerar o relatório de classificação para o conjunto de teste original desbalanceado\n",
    "print(classification_report(y_test, gb_model.predict(X_test), target_names=['Not Approved', 'Approved']))"
   ]
  }
 ],
 "metadata": {
  "kernelspec": {
   "display_name": "Python 3",
   "language": "python",
   "name": "python3"
  },
  "language_info": {
   "codemirror_mode": {
    "name": "ipython",
    "version": 3
   },
   "file_extension": ".py",
   "mimetype": "text/x-python",
   "name": "python",
   "nbconvert_exporter": "python",
   "pygments_lexer": "ipython3",
   "version": "3.11.9"
  }
 },
 "nbformat": 4,
 "nbformat_minor": 2
}
